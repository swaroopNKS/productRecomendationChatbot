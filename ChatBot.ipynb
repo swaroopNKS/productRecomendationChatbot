{
  "cells": [
    {
      "cell_type": "code",
      "execution_count": 46,
      "metadata": {
        "colab": {
          "base_uri": "https://localhost:8080/",
          "height": 209
        },
        "id": "TsxnecLlPanK",
        "outputId": "8bdb59f3-908f-4c74-a279-ce5e306d35e8"
      },
      "outputs": [
        {
          "output_type": "display_data",
          "data": {
            "application/vnd.colab-display-data+json": {
              "pip_warning": {
                "packages": [
                  "torch",
                  "torchgen"
                ]
              }
            }
          },
          "metadata": {}
        },
        {
          "output_type": "display_data",
          "data": {
            "application/vnd.colab-display-data+json": {
              "pip_warning": {
                "packages": [
                  "torch",
                  "torchgen"
                ]
              }
            }
          },
          "metadata": {}
        }
      ],
      "source": [
        "!pip install langchain\n",
        "!pip install pinecone-client==2.2.2\n",
        "!pip install sentence_transformers\n",
        "!pip install pdf2image\n",
        "!pip install pypdf\n",
        "!pip install xformers\n",
        "!pip install bitsandbytes accelerate transformers"
      ]
    },
    {
      "cell_type": "code",
      "execution_count": 1,
      "metadata": {
        "colab": {
          "base_uri": "https://localhost:8080/"
        },
        "id": "gj6kBZ5Ob5ZU",
        "outputId": "dffafc9e-89a1-4c75-b315-86bec18c1461"
      },
      "outputs": [
        {
          "output_type": "stream",
          "name": "stdout",
          "text": [
            "Requirement already satisfied: huggingface_hub==0.16.4 in /usr/local/lib/python3.10/dist-packages (0.16.4)\n",
            "Requirement already satisfied: filelock in /usr/local/lib/python3.10/dist-packages (from huggingface_hub==0.16.4) (3.13.1)\n",
            "Requirement already satisfied: fsspec in /usr/local/lib/python3.10/dist-packages (from huggingface_hub==0.16.4) (2023.6.0)\n",
            "Requirement already satisfied: requests in /usr/local/lib/python3.10/dist-packages (from huggingface_hub==0.16.4) (2.31.0)\n",
            "Requirement already satisfied: tqdm>=4.42.1 in /usr/local/lib/python3.10/dist-packages (from huggingface_hub==0.16.4) (4.66.1)\n",
            "Requirement already satisfied: pyyaml>=5.1 in /usr/local/lib/python3.10/dist-packages (from huggingface_hub==0.16.4) (6.0.1)\n",
            "Requirement already satisfied: typing-extensions>=3.7.4.3 in /usr/local/lib/python3.10/dist-packages (from huggingface_hub==0.16.4) (4.5.0)\n",
            "Requirement already satisfied: packaging>=20.9 in /usr/local/lib/python3.10/dist-packages (from huggingface_hub==0.16.4) (23.2)\n",
            "Requirement already satisfied: charset-normalizer<4,>=2 in /usr/local/lib/python3.10/dist-packages (from requests->huggingface_hub==0.16.4) (3.3.2)\n",
            "Requirement already satisfied: idna<4,>=2.5 in /usr/local/lib/python3.10/dist-packages (from requests->huggingface_hub==0.16.4) (3.6)\n",
            "Requirement already satisfied: urllib3<3,>=1.21.1 in /usr/local/lib/python3.10/dist-packages (from requests->huggingface_hub==0.16.4) (2.0.7)\n",
            "Requirement already satisfied: certifi>=2017.4.17 in /usr/local/lib/python3.10/dist-packages (from requests->huggingface_hub==0.16.4) (2023.11.17)\n"
          ]
        }
      ],
      "source": [
        "!pip install huggingface_hub==0.16.4"
      ]
    },
    {
      "cell_type": "code",
      "execution_count": 2,
      "metadata": {
        "colab": {
          "base_uri": "https://localhost:8080/"
        },
        "id": "09Clu-tIQyhg",
        "outputId": "180fd7da-d768-4177-d92f-6e6332afb25b"
      },
      "outputs": [
        {
          "output_type": "stream",
          "name": "stderr",
          "text": [
            "/usr/local/lib/python3.10/dist-packages/pinecone/index.py:4: TqdmExperimentalWarning: Using `tqdm.autonotebook.tqdm` in notebook mode. Use `tqdm.tqdm` instead to force console mode (e.g. in jupyter console)\n",
            "  from tqdm.autonotebook import tqdm\n"
          ]
        }
      ],
      "source": [
        "from langchain.document_loaders import PyPDFDirectoryLoader\n",
        "from langchain.text_splitter import RecursiveCharacterTextSplitter\n",
        "from langchain.embeddings import HuggingFaceEmbeddings\n",
        "from langchain.vectorstores import Pinecone\n",
        "import pinecone\n",
        "from transformers import AutoTokenizer, AutoModelForCausalLM\n",
        "from transformers import pipeline\n",
        "import os\n",
        "import sys"
      ]
    },
    {
      "cell_type": "code",
      "execution_count": 3,
      "metadata": {
        "id": "nV22I2rLQ-WQ"
      },
      "outputs": [],
      "source": [
        "from langchain import HuggingFacePipeline, PromptTemplate\n",
        "from langchain.chains import RetrievalQA\n"
      ]
    },
    {
      "cell_type": "code",
      "execution_count": 4,
      "metadata": {
        "colab": {
          "base_uri": "https://localhost:8080/"
        },
        "id": "nL8WkdZgRC7q",
        "outputId": "895f17dd-c682-4ad5-9b79-ee99048f9b9f"
      },
      "outputs": [
        {
          "output_type": "stream",
          "name": "stdout",
          "text": [
            "mkdir: cannot create directory ‘pdfs’: File exists\n"
          ]
        }
      ],
      "source": [
        "!mkdir pdfs\n"
      ]
    },
    {
      "cell_type": "code",
      "execution_count": 5,
      "metadata": {
        "colab": {
          "base_uri": "https://localhost:8080/"
        },
        "id": "CS7GO6KGq_5p",
        "outputId": "77df4ac7-09bb-40e5-94f3-76d75cf598ae"
      },
      "outputs": [
        {
          "output_type": "stream",
          "name": "stdout",
          "text": [
            "Requirement already satisfied: pypdf in /usr/local/lib/python3.10/dist-packages (4.0.0)\n"
          ]
        }
      ],
      "source": [
        "!pip install pypdf"
      ]
    },
    {
      "cell_type": "code",
      "execution_count": 6,
      "metadata": {
        "id": "GdYU1EorRRve"
      },
      "outputs": [],
      "source": [
        "from langchain.document_loaders import PyPDFLoader, PyPDFDirectoryLoader\n",
        "loader = PyPDFDirectoryLoader(\"pdfs\")\n",
        "data = loader.load()"
      ]
    },
    {
      "cell_type": "code",
      "execution_count": 7,
      "metadata": {
        "colab": {
          "base_uri": "https://localhost:8080/"
        },
        "id": "xIwUyHRCUTNH",
        "outputId": "a45708db-c322-4799-9d15-e82fe9e8757b"
      },
      "outputs": [
        {
          "output_type": "stream",
          "name": "stdout",
          "text": [
            "[Document(page_content='TOP FEATURES\\n• Picture: 4K Glo Panel  I400 Nits Brightness  I94% NTSC Color Gamut IDolby Vision IQ  IHDR10 \\nPlus, HLG  IMotion Enhancement, MEMC IActive Contrast  IGame Mode  IALLM ( Auto Low \\nLatency Mode )IVRR ( Variable Refresh Rate ) \\n• Sound: Built -inDJ Subwoofer I  104watt DJ sound I4xMaster speakers + 1x Sub -woofer  IDolby \\nAtmos Sound Enhancement  ISub-Woofer Bass Boost Control   IAudio Only Mode\\n• Content and Software: Google TV OS  IAdvanced Cricket Mode  ICinema Mode  IAI Picture Engine  \\nIGoogle Play Store  INetflix, Prime Video, YouTube & Hotstar Licensed Apps on Remote  IWishlist  I\\nLibrary  IKids Mode with Advanced Parental Lock  IDevice Assistant App\\n• Hardware: Glo AI Processor IFar-Field Microphone for Hands -Free Voice Search IAmbient Light \\nSensor  IVu ActiVoice Remote Control  IHigh speed, 16GB eMMC 5.1 storage I2GB RAM    \\n• Connectivity :Google Chrome Cast  IBluetooth 5.1  I2.4/5GHz WiFiIHDMI CEC & eARC /ARC  I\\nHDMI x 3no’s  IUSB x 2no’s  IHeadphone Connectivity\\n• Design: Sleek Metal Aesthetics IBezel -less Display  ICrafted in Charcoal Grey  IMetal Stand Design \\nICheckerboard Texture Back Cover  IBuilt in Sub -Woofer DesignVu GloLED TV\\n55GloLED (139cm) 50GloLED (126cm) 65GloLED (164cm)4K Google TV', metadata={'source': 'pdfs/vu tv.pdf', 'page': 0}), Document(page_content='DISPLAY\\nScreen Size (inch) cm (65)164cm, (55)139cm,  (50)126cm\\nModel Number 65GloLED  I  55GloLED  I 50GloLED  \\nResolution & Backlight Source 3840  x 2160, DLED\\nPanel Technology Glo Panel\\nBrightness 400 Nits\\nPanel Refresh Rate 60Hz\\nWide Color Gamut Yes\\nColour Depth 10 Bit\\nHigh Dynamic Range Dolby Vision IQ, HDR10+, HLG\\nColor Volume 94% NTSC\\nActive Contrast Yes\\nGame Feature Game Mode, ALLM, VRR\\nMEMC YesAudio Output 104 watt Speakers\\nNumber of Speakers Master x 4  ISub-woofer x 1  \\nSub-Woofer Control Yes\\nDolby Audio MS12, Dolby, Dolby Digital, \\nDolby Digital Plus\\nAudio Enhancement Type Dolby Atmos\\nAudio Only Mode Yes\\nExternal Speaker Connection TV/ eARC / ARC/ SPDIF/ Bluetooth\\n4K @ 60Hz Yes\\nHDMI version HDMI 2.1\\nProcessor Glo AI Processor\\nStorage / DDR RAM 16GB / 2GB\\nGPU Yes\\nGame Mode Yes\\nALLM Yes\\nVRR Yes\\nDimensions with stand \\n(WxHxD ) in mm(65) 1447 ×907 ×345\\n(55) 1230 ×773 ×305\\n(50) 1116 ×710 ×305\\nDimensions without stand \\n(WxHxD ) in mm(65) 1447 ×839 ×76\\n(55) 1230 ×714 ×77\\n(50) 1116 ×652 ×82\\nNet weight (with stand / \\nwithout stand) in Kg(65) 19.2 Kg / 18.7 Kg\\n(55) 14.2 Kg / 13.9 Kg\\n(50)  11.7 Kg / 11.4 KgSOUND\\nHARDWARE\\nDIMENSIONSSPECIFICATIONS\\nSmart OS Google TV\\nGoogle Apps Google Play Store, Google Play \\nMovie, YouTube Music, Google \\nGames, YouTube etc.\\nLicensed Preloaded Apps Netflix, Prime Video, YouTube, \\nHotstar , Spotify, Device assistant,  \\netc.\\nCricket Mode / Cinema Mode Yes / Yes\\nHot Keys on Remote Netflix, Prime Video, YouTube , \\nHotstar\\nVoice Search Google Assistance Voice search \\n(English + Hindi)\\nRemote Control VuActiVoice Control with Fast \\nVoice Recognition\\nWake up Support LAN, Wi -Fi & CastSMART SOFTWARE\\nRemote control (Technology /Qty) Bluetooth/ IR/ Voice Control/ 1no\\nBattery (size / quantity) AAA / 2nos\\nPower Cord Yes\\nTable Top Stand Yes\\nWall Mount Bracket Yes\\nUser Manual / Warranty Card Yes / YesACCESSORIESDigital Media Player Content Yes (Music/ Video/ Photos)\\nDMP File Allocation Table FAT / FAT32 / NTFS\\nTV Bezel Color (Front, Rear, Stand) Grey / Black/ Grey\\nDesign Type Bezel Less Design\\nSupply  Range [Voltage / Freq.] 100V ~ 240V AC 50/60Hz\\nPower Consumption (65) 180W   (55) 140W   (50) 115WOTHER FEATURES\\nFar-Field Microphone Yes, for Hands -Free Voice Search \\nAmbient Light Sensor Yes\\nCast Support Built -in Chromecast support\\nBluetooth Support YES, 5.1 version \\nWi-Fi protocols IEEE 802.11 2.4GHz & 5.0GHz, a/ b/ g/ n/ ac\\nHDMI Input’s 3nos\\nHDMI eARC / CEC Yes / Yes\\nUSB Input’s 2nos \\nDigital Audio Output  Yes , Optical \\nEarphone Jack Yes\\nAV Input 1no\\nEthernet Port YesCONNECTIVITY', metadata={'source': 'pdfs/vu tv.pdf', 'page': 1}), Document(page_content='OTHER FEATURES\\n• Picture: IPS Panel  I400 Nits Brightness  IAI Picture Booster  IHDR10 & HLG I\\nWCG  IDynamic Contrast  IGame Mode  I4K Resolution 3840 x 2160  IPanoramic \\nViewing  IALLM\\n• Sound: 50Watt Built -in Soundbar  IMaster Speakers x 2nos + Tweeter Speakers x 2nos  \\nIBuilt -in Dolby Audio  ISurround Sound Technologies  IPure Sound Enhancement  \\nISound Only Mode\\n• Content and Software: Google TV OS  IPlay Store  INetflix, Prime Video, Hotstar, \\nYouTube Licensed Apps on Remote  IParental Control  IData Saver  I Kids Mode\\n• Connectivity: Google Chrome Cast  IBluetooth 5.0  I2.4/5.0GHz WiFi IHDMI CEC & \\nARC  IVu ActiVoice Remote with Voice search and Google Assistance\\n• Design & Hardware: 3-side Bezel Less Design  IFront Soundbar Design  IGlossy Black  \\nIQuad Core Processor  I16GB Storage  I2GB RAM  IEnergy SavingVu Premium TV\\n43CA (108cm)   I    55CA (139cm)4K UHD Google TV\\nPREMIUM \\nFEATURESPICTURE\\n400 NITS \\nIPS PANELSOUND\\n50 WATT \\nSOUNDBARDESIGN\\nDESIGNER \\nLOGO FRAMESOFTWARE\\nGOOGLE TV', metadata={'source': 'pdfs/vu tv.pdf', 'page': 2}), Document(page_content='Display\\nScreen Size cm/inch (43) 108cm         (55) 139cm  \\nModel Number (43) 43CA            (55)  55CA\\nResolution & Backlight Source 3840  x 2160, DLED\\nPanel Type IPS\\nBrightness 400 Nits\\nHigh Dynamic Range HDR10, HLG\\nDynamic Contrast YES\\nColor 10-Bit\\nNoise Reduction Digital & MPEG Noise \\nReduction \\nGame Mode YES\\nWCG YES\\nPicture Mode Standard, Dynamic, Cinema, \\nEco, Gentle, Vivid, Cricket, \\nGame, PersonalAudio Output 50Watt Soundbar \\nSpeakers 2 Master Speakers + 2 Tweeter \\nSpeakers\\nAudio Enhancement Type Pure Sound & Surround Sound\\nSound Night Mode YES\\nExternal Speaker Connection TV/ ARC/ SPDIF/ Bluetooth\\nSound Only Mode YES\\nAudio Mode Standard, Cinema, Music, \\nNews, Personal\\nSmart OS Google TV OS\\nGoogle Apps Google Play Store, YouTube \\nMusic, Google Games, \\nYouTube etc.\\nLicensed Preloaded Apps Netflix, Prime Video, YouTube,  \\nHotstar etc.\\nAI AI Picture Booster\\nParental Control / Kids Mode YES / YES\\nHot Keys on Remote Netflix, Prime Video, YouTube.\\nVoice Search Google Assistance Voice \\nsearch (Support Languages \\nEnglish + Hindi)\\nRemote Control VuActiVoice Control with Fast \\nVoice Recognition\\nWake up Support LAN, Wi -Fi\\nProcessor / GPU Quad Core / G31\\nStorage / DDR RAM 16GB / 2GB\\nDigital media player content YES (Music/ Video/ Photos)\\nDMP File allocation table FAT / FAT32 \\nTV Bezel Color (Front bezel, \\nrear, stand)Black/ Black/ Black\\nSpeaker Type Front Soundbar Design\\nDesign Type 3 Side Bezel Less Design\\nSupply  range [Voltage / \\nFrequency] 100V ~ 240V AC 50/60Hz\\nStandby Power consumption 0.5W\\nPower Consumption (43) 120Watt            \\n(55)  150WattCast Support Chromecast built -in (Android / \\nWindows/ Macbook\\nBluetooth Support YES, 5.0 version \\nWi-Fi protocols IEEE 802.11 YES, 2.4GHz / 5.0GHz, a/ b/ g/ n/ \\nac\\nHDMI Input’s 3nos\\nHDMI ARC / CEC / DLNA YES\\nHDMI Type 4K@60Hz with HDCP Version \\n2.2\\nUSB Input’s 2nos\\nDigital Audio Output  YES , Optical \\nEarphone Jack YES\\nRF Analogue\\nAV input 1no\\nEthernet port (RJ45 connector) YES\\nRemote controller (Technology \\n/Qty)Bluetooth/ IR/ Voice Control/ \\n1no\\nBattery (size / quantity) AAA / 2nos\\nPower Cord YES\\nTable Top Stand YES\\nWall Mount Bracket YES\\nUser Manual / Warranty Card YES / YES\\nDimensions with stand \\n(WxHxD ) in mm(43) 957 x 648.2 x 237  \\n(55) 1226 x 803.7 x 266\\nDimensions without stand \\n(WxHxD ) in mm(43) 957 x 584.1 x 91\\n(55) 1226 x 735.6 x 94\\nNet weight in Kg. (with stand) (43) 7.55 Kg\\n(55) 16.93 Kg\\nNet weight in Kg. (without stand) (43) 7.45 Kg\\n(55) 16.8 KgSound\\nSmart Software\\nOther FeaturesConnectivity\\nAccessories\\nDimensionsSpecifications Vu Premium TV', metadata={'source': 'pdfs/vu tv.pdf', 'page': 3}), Document(page_content='Vu Premium TV\\nFHD Android11 Smart TV\\n43GA (108cm)\\nTOP FEATURES\\n• Picture: IPS Panel  IHigh Bright Panel  IAdaptive Contrast  INatural Color Enhancer I\\nAuto Backlight Control  IMPEG Noise Reduction  ISports Mode  IGame Mode  IEnergy \\nSaving Mode  ILow Blue Light Control\\n• Sound: 24watt Box Speakers  IDolby Audio  IDTS Virtual -X Sound Enhancer  IDialogue \\nClarity  ISurround Sound  ITruBass HDX  IOptical Audio Out\\n• Content and Software: Android 11 OS IGoogle Play Store  IPreloaded apps like Netflix, \\nPrime Video, YouTube, YouTube Music etc. Licensed apps on Remote  IGoogle Voice \\nAssistance\\n• Connectivity: WiFi ILAN  IBluetooth  IHDMI CEC & ARC  IUSB  IWireless Mobile \\nCasting  IHeadphone Out\\n• Design & Hardware: Bezel Less Design  IPremium Matte Black Design  IQuad Core \\nProcessor  I8GB Storage  I1GB RAM.\\n', metadata={'source': 'pdfs/vu tv.pdf', 'page': 4}), Document(page_content='DISPLAY\\nScreen Size inch/ cm 108cm\\nModel Number 43GA\\nResolution 1920 x 1080\\nPanel / Backlight Source DLED\\nBacklight Level adjustment YES\\nBacklight Control YES\\nAdaptive Contrast YES\\nColor Enhancer Natural Color Enhancer\\nGame Mode YES\\nNoise Reduction Digital Noise Reduction, MPEG \\nNoise Reduction \\nPicture Mode User, Standard, Vivid, Sport, Movie, \\nGame, Energy SavingDolby Audio Yes\\nAudio Enhancement Type DTS Virtual X Sound\\nAudio power output per channel 12W + 12W\\nAdvanced Sound Surround Sound, TruBass HDX\\nExternal Speaker Connection ARC / SPDIF / Headphone\\nAudio Mode User, Standard, Vivid, Sports, \\nMovie, Music, News, Auto\\nDolby Audio Yes\\nDimensions with stand \\n(WxHxD ) in mm955 ×606 ×182\\nDimensions without stand \\n(WxHxD ) in mm955 ×558 ×95\\nNet weight (with stand / \\nwithout stand) in Kg6.6 Kg / 6.5 KgSOUND\\nDIMENSIONSSPECIFICATIONS\\nSmart OS Android 11 \\nGoogle Apps Google Play Store, YouTube Music, \\nGoogle Games, YouTube etc.\\nLicensed Preloaded Apps Netflix, Prime Video, YouTube, \\nGoogle Play etc. \\nOther Apps Support Zee5, Hotstar , SonyLiv , Voot , Jio \\nCinema, MX Player, Spotify etc. \\nCodec Support H.264, H.265, VP8, VP9\\nVoice Search Google Assistance Voice search \\nRemote Control VuActiVoice Control with Fast \\nVoice Recognition\\nWake up Support LAN, Wi -Fi \\nData Saver YesSMART SOFTWARE\\nRemote control (Technology /Qty) Bluetooth / IR / Voice Control/ 1no\\nBattery (size / quantity) AAA / 2nos\\nPower Cord YES, In -built\\nTable Top Stand Yes\\nWall Mount Bracket Yes\\nUser Manual / Warranty Card Yes / YesACCESSORIESProcessor / GPU Quad Core / Mali -G31\\nStorage / DDR RAM 8GB / 1GB\\nDigital Media Player Content Yes (Music / Video / Photos)\\nDMP File Allocation Table FAT / FAT32\\nTV ID Color (Front, Rear, Stand) Black / Black / Gray\\nDesign Type Bezel Less Design\\nSpeaker Type Box Speaker\\nSupply  Range [Voltage / Freq.] 100V ~ 240V AC 50/60Hz\\nPower Consumption 75W OTHER FEATURES\\nCast Support Built -in Chromecast support\\nBluetooth Support YES, 5.0 version \\nWi-Fi protocols IEEE 802.11 2.4GHz b / g / n\\nHDMI Input’s 2nos\\nHDMI ARC/CEC Yes / Yes\\nUSB Input’s 2nos \\nDigital Audio Output  Yes , Optical \\nEarphone Jack Yes\\nAV Input 1no\\nEthernet Port YesCONNECTIVITY', metadata={'source': 'pdfs/vu tv.pdf', 'page': 5}), Document(page_content='TOP FEATURES\\n• Design: Armani Gold Aesthetics IBezel -less Display  ICrafted in Premium Aluminium Alloy  ISleek \\nMetal Frame Design IScalene Triangle Stand  ICheckerboard Texture Back Cover\\n• Picture: 4K Quantum Dot Technology  I800 Nits Peaking Brightness I120Hz Panel Refresh Rate, \\n240Hz Motion Rate IFull Array L ocal Dimming  IDolby Vision IQ  IQuantum HDR10 Plus  I100% \\nColor Volume IMEMC  IFactualVu Technology\\n• Sound: Armani Gold 4.1 Speaker  I  Built -inSubwoofer I100 watt Sound  IDolby Atmos Sound \\nEnhancement  IeARC Support\\n• Content and Software: Film Maker Mode  ICricket Mode  ICinema Mode  IAI Picture Engine  I\\nOfficial Android  IGoogle Play Store  INetflix, Prime Video, YouTube, Google Play & Spotify Licensed \\nApps on Remote  IParental Control.\\n• Gaming: 4K@120Hz IHDMI2.1  IAdvanced GPU and APU  I3GB RAM & 16GB Storage IGame \\nMode  IAMD FreeSync IALLM ( Auto Low Latency Mode )IVRR ( Variable Refresh Rate )  IHDR \\nGaming\\n• Connectivity :Google Chrome Cast  IFar-Field Microphone for Hands -Free Voice Search  I Ambient \\nLight Sensor IBluetooth 5.0  I2.4/5GHz WiFiIHDMI CEC & eARC /ARC  IHDMI x 4no’s  IUSB x \\n2no’sVu Masterpiece Glo TV\\n65QMP (164cm) 55QMP (139cm) 75QMP (189cm)4K QLED TV\\n', metadata={'source': 'pdfs/vu tv.pdf', 'page': 6}), Document(page_content='DISPLAY\\nScreen Size (inch) cm (55)139cm,  (65)164cm,  (75)189cm\\nModel Number 55QMP    I    65QMP     I    75QMP  \\nResolution & Backlight Source 3840  x 2160, DLED\\nPanel Technology Quantum Dot\\nBrightness 800 Nits Peaking\\nPanel Refresh Rate 120Hz\\nSmooth Motion Rate 240Hz\\nLocal Dimming Full Array Local Dimming\\nColour Depth 10 Bit\\nHigh Dynamic Range Dolby Vision IQ, HDR10+, HLG\\nColor Volume 100%\\nGamma Gamma Control & Calibration\\nMEMC YesAudio Output & Speakers Built -in 4.1 speaker\\n100 watt Speakers\\nNumber of Speakers Master x 4  ISub woofer x 1  \\nDolby Audio MS12, Dolby, Dolby Digital, \\nDolby Digital Plus\\nAudio Enhancement Type Dolby Atmos\\nAudio Only Mode Yes\\nExternal Speaker Connection TV/ eARC / ARC/ SPDIF/ Bluetooth\\n4K @ 120Hz Yes\\nHDMI version HDMI 2.1\\nProcessor / Storage / DDR RAM Quad Core / 16GB / 3GB\\nGPU / APU Yes\\nGame Mode Yes\\nAMD FreeSync Yes\\nALLM Yes\\nVRR Yes\\nHDR Gaming Yes\\nDimensions with stand \\n(WxHxD ) in mm(55) 1228 x 771 x  257\\n(65) 1447 x 906 x  306\\n(75) 1675 x 1046 x 366 \\nDimensions without stand \\n(WxHxD ) in mm(55) 1228 x 713 x 81\\n(65) 1447 x 836 x 81\\n(75) 1675 x 960 x 78\\nNet weight (with stand / \\nwithout stand) in Kg(55) 15.6 Kg / 15.2 Kg\\n(65) 19.1 Kg / 18.5 Kg\\n(75) 29.1 Kg /  28.5 KgSOUND\\nGAMING\\nDIMENSIONSSPECIFICATIONS\\nFILMMAKER Mode Yes\\nUpscale AI 4K Upscale\\nCricket Mode / Cinema Mode Yes / Yes\\nSmart OS Official Google Android \\nGoogle Apps Google Play Store, Google Play \\nMovie, Google Music, Google \\nGames, YouTube etc.\\nLicensed Preloaded Apps Netflix, Prime Video, YouTube, \\nGoogle Play, Spotify etc.\\nHot Keys on Remote Netflix, Prime Video, YouTube, \\nSpotify, Google Play\\nVoice Search Google Assistance Voice search \\n(English + Hindi)\\nRemote Control VuActiVoice Control with Fast \\nVoice Recognition\\nWake up Support LAN, Wi -Fi & CastSMART SOFTWARE\\nRemote control (Technology /Qty) Bluetooth/ IR/ Voice Control/ 1no\\nBattery (size / quantity) AAA / 2nos\\nPower Cord Yes\\nTable Top Stand Yes\\nWall Mount Bracket Yes\\nUser Manual / Warranty Card Yes / YesACCESSORIESDigital Media Player Content Yes (Music/ Video/ Photos)\\nDMP File Allocation Table FAT / FAT32 / NTFS\\nTV Bezel Color (Front, Rear, Stand) Armani Gold/ Black/ Armani Gold\\nDesign Type Bezel Less Design\\nSupply  Range [Voltage / Freq.] 100V ~ 240V AC 50/60Hz\\nPower Consumption (55) 180W   (65) 220W   (75) 300WOTHER FEATURES\\nFar-Field Microphone Yes, for Hands -Free Voice Search \\nAmbient Light Sensor Yes\\nCast Support Built -in Chromecast support\\nBluetooth Support YES, 5.0 version \\nWi-Fi protocols IEEE 802.11 2.4GHz & 5.0GHz, a/ b/ g/ n/ ac\\nHDMI Input’s 4nos\\nHDMI Type / HDMI eARC / CEC HDCP Version 2.3 / Yes / Yes\\nUSB Input’s 2nos (USB 3.0 x 1) + (USB 2.0 x 1)\\nDigital Audio Output  Yes , Optical \\nEarphone Jack Yes\\nAV Input 1no\\nEthernet Port YesCONNECTIVITY', metadata={'source': 'pdfs/vu tv.pdf', 'page': 7}), Document(page_content='TOP FEATURES\\n• Picture: 4K Glo Panel  I400 Nits Brightness  I94% NTSC Color Gamut IDolby Vision IQ  IHDR10 \\nPlus, HLG  IMotion Enhancement, MEMC IActive Contrast  IGame Mode  IALLM ( Auto Low \\nLatency Mode )IVRR ( Variable Refresh Rate ) \\n• Sound: Built -inDJ Subwoofer I  84watt DJ sound I2xMaster Speakers + 1x Sub -woofer  IDolby \\nAtmos Sound Enhancement  ISub-Woofer Bass Boost Control   IAudio Only Mode\\n• Content and Software: Google TV OS  IAdvanced Cricket Mode  ICinema Mode  IAI Picture Engine  \\nIGoogle Play Store  INetflix, Prime Video, YouTube & Hotstar Licensed Apps on Remote  IWishlist  I\\nLibrary  IKids Mode with Advanced Parental Lock  IDevice Assistant App\\n• Hardware: Glo AI Processor IAmbient Light Sensor  IVu ActiVoice Remote Control  IHigh speed, \\n16GB eMMC 5.1 storage I2GB RAM    \\n• Connectivity :Google Chrome Cast  IBluetooth 5.1  I2.4/5GHz WiFiIHDMI CEC & eARC /ARC  I\\nHDMI x 3no’s  IUSB x 2no’s  IHeadphone Connectivity\\n• Design: Sleek Metal Aesthetics IBezel -less Display  IGrey Colour Metal Stand Design I\\nCheckerboard Texture Back Cover  IBuilt in Sub -Woofer DesignVu GloLED TV\\n43GloLED (108cm )4K Google TV\\n', metadata={'source': 'pdfs/vu tv.pdf', 'page': 8}), Document(page_content='DISPLAY\\nScreen Size (inch) cm (43) 108cm\\nModel Number 43GloLED  \\nResolution & Backlight Source 3840  x 2160, DLED\\nPanel Technology Glo Panel\\nBrightness 400 Nits\\nPanel Refresh Rate 60Hz\\nWide Color Gamut Yes\\nColour Depth 10 Bit\\nHigh Dynamic Range Dolby Vision IQ, HDR10+, HLG\\nColor Volume 94% NTSC\\nActive Contrast Yes\\nGame Feature Game Mode, ALLM, VRR\\nMEMC YesAudio Output 84 watt Speakers\\nNumber of Speakers Master x 2  ISub-woofer x 1  \\nSub-Woofer Control Yes\\nDolby Audio MS12, Dolby, Dolby Digital, \\nDolby Digital Plus\\nAudio Enhancement Type Dolby Atmos\\nAudio Only Mode Yes\\nExternal Speaker Connection TV/ eARC / ARC/ SPDIF/ Bluetooth\\n4K @ 60Hz Yes\\nHDMI version HDMI 2.1\\nProcessor Glo AI Processor\\nStorage / DDR RAM 16GB / 2GB\\nGPU Yes\\nGame Mode Yes\\nALLM Yes\\nVRR Yes\\nDimensions with stand \\n(WxHxD ) in mm962 ×613 ×281 \\nDimensions without stand \\n(WxHxD ) in mm962 ×560 ×86\\nNet weight (with stand / \\nwithout stand) in Kg9.2 Kg / 8.7 KgSOUND\\nHARDWARE\\nDIMENSIONSSPECIFICATIONS\\nSmart OS Google TV\\nGoogle Apps Google Play Store, YouTube Music, \\nGoogle Games, YouTube etc.\\nLicensed Preloaded Apps Netflix, Prime Video, YouTube, \\nGoogle Play, Spotify etc.\\nCricket Mode / Cinema Mode Yes / Yes\\nKids Mode Yes with Parental Control\\nHot Keys on Remote Netflix, Prime Video, YouTube,  \\nHotstar\\nVoice Search Google Assistance Voice search \\n(English + Hindi)\\nRemote Control VuActiVoice Control with Fast \\nVoice Recognition\\nWake up Support LAN, Wi -Fi & CastSMART SOFTWARE\\nRemote control (Technology /Qty) Bluetooth/ IR/ Voice Control/ 1no\\nBattery (size / quantity) AAA / 2nos\\nPower Cord Yes\\nTable Top Stand Yes\\nWall Mount Bracket Yes\\nUser Manual / Warranty Card Yes / YesACCESSORIESDigital Media Player Content Yes (Music/ Video/ Photos)\\nDMP File Allocation Table FAT / FAT32 / NTFS\\nTV Bezel Color (Front, Rear, Stand) Grey / Black / Grey\\nDesign Type Bezel Less Design\\nSupply  Range [Voltage / Freq.] 100V ~ 240V AC 50/60Hz\\nPower Consumption 115WOTHER FEATURES\\nAmbient Light Sensor Yes\\nCast Support Built -in Chromecast support\\nBluetooth Support YES, 5.1 version \\nWi-Fi protocols IEEE 802.11 2.4GHz & 5.0GHz, a/ b/ g/ n/ ac\\nHDMI Input’s 3nos\\nHDMI eARC / CEC Yes / Yes\\nUSB Input’s 2nos \\nDigital Audio Output  Yes , Optical \\nEarphone Jack Yes\\nAV Input 1no\\nEthernet Port YesCONNECTIVITY', metadata={'source': 'pdfs/vu tv.pdf', 'page': 9}), Document(page_content='TV › TV Price List › Sony TV Price List Share:\\nSORT BY Popularity\\nFILTERS CLEAR ALL\\n₹ 1,000Search All Filters (LED, Smart...\\nPrice\\nSearch Brand...Sony T V Price List (Jan 2024)\\nYou can find all TV PriceFind the below list of Sony T V Price in India with specifications, expert score, ratings and pictures. This list was last updated on 23rd January 2024.\\n...(read mor e)\\nView Photos (5)\\n43″ (109.22 cm) LED T V\\n4K (3840 x 2160) R esolution\\nAndroid T V (Google T V)2 Speakers, 20W with Dolby Audio\\n1 USB P ort, 3 HDMI P orts\\n178° View Angle, 60 Hz R efresh Rate\\nSee Full Specifications  ❯₹ 40,990\\nSee more prices❯Sony BRA VIA KD-43X64L 43 inch UHD Smar t LED T V\\nView Photos (4)\\n50″ (127 cm) LED T V\\n4K (3840 x 2160) R esolution\\nAndroid T V (Google T V)2 Speakers, 20W with Dolby Audio\\n1 USB P ort, 3 HDMI P orts\\n178° View Angle, 60 Hz R efresh Rate\\nSee Full Specifications  ❯₹ 54,990\\nSee more prices❯Sony BRA VIA KD-50X64L 50 inch UHD Smar t LED T V\\nView Photos (3)\\n65″ (165.1 cm) LED T V\\n4K (3840 x 2160) R esolution\\nAndroid T V (Google T V)2 Speakers, 20W with Dolby Audio\\n2 USB P orts, 3 HDMI P orts\\n178° View Angle, 60 Hz R efresh Rate\\nSee Full Specifications  ❯₹ 96,990\\nSee more prices❯Sony Bravia KD-65X74K 65 inch UHD Smar t LED T V\\nView Photos (1)\\n55″ (139.7 cm) LED T V with HDR10\\n4K (3840 x 2160) R esolution\\nAndroid T V (Google T V), 16 GB S torage2 Speakers, 20W with Open Baffle Speaker\\n2 USB P orts, 3 HDMI P orts\\n150° View Angle, 50 Hz R efresh Rate\\nSee Full Specifications  ❯₹ 64,990\\nSee more prices❯Sony BRA VIA KD-55X74L 55 inch UHD Smar t LED T V\\nFilter by PriceSony\\n₹ 5,000,000 to\\nBelow Rs. 20,000 (8)\\nRs. 20,000 - Rs. 30,000 (14)\\nRs. 30,000 - Rs. 40,000 (12)\\nRs. 40,000 - Rs. 50,000 (14)\\nRs. 50,000 - Rs. 60,000 (18)\\nRs. 60,000 & Above (97)\\nBrand\\nLG (351)\\nSamsung (363)\\nSony (163)\\nPanasonic (139)\\nTCL (100)\\nMark et Status\\nInstock (65)\\nOut Of S tock (98)\\nScreen Size\\n24 Inch - 32 Inch (20)\\n32 Inch - 43 Inch (43)\\n43 Inch - 55 Inch (65)\\n55 Inch - 65 Inch (46)\\n75 Inch & Above (19)\\nScreen R esolution\\nFull HD (28)\\n4K/Ultra HD/UHD (111)\\n8K UHD (3)\\nDisplay T ype4.7 ★\\n4.7 ★\\n4.7 ★\\n4.7 ★\\nBelow ₹\\n20,000₹ 20,000 -\\n30,000₹ 30,000 -\\n40,000₹ 40,000 -\\n50,000₹ 50,000 -\\n60,000\\n›23.9K Ratings\\n23.9K Ratings\\n21.5K Ratings\\n21.4K Ratings\\nBacMobiles ▼Laptops ▼TV▼Appliances ▼Audio & W earables ▼Accessories ▼News & R eviews ▼Rechar ge ▼ BOT AWARDS AMA ZON HUBPOPUL AR MOBILES: Xiaomi R edmi Note 13 Pro Samsung Galaxy S24 Ultra POCO X6 Pro vivo X100 Pro 5G OPPO R eno11 Pro\\nSearch millions of products', metadata={'source': 'pdfs/Sony TV.pdf', 'page': 0}), Document(page_content='View Photos (1)\\n65″ (165.1 cm) LED T V\\n4K (3840 x 2160) R esolution\\nAndroid T V (Google T V)2 Speakers, 20W with Dolby Audio\\n2 USB P orts, 3 HDMI P orts\\n178° View Angle, 60 Hz R efresh Rate\\nSee Full Specifications  ❯₹ 85,490\\nSee more prices❯Sony KD-65X75L 65 inch UHD Smar t LED T V\\nView Photos (1)\\n43″ (109.22 cm) LED T V with HDR10\\n4K (3840 x 2160) R esolution\\nAndroid T V (Google T V)2 Speakers, 20W with Dolby Audio\\n2 USB P orts, 3 HDMI P orts\\n178° View Angle, 60 Hz R efresh Rate\\nSee Full Specifications  ❯₹ 49,990\\nSee more prices❯Sony BRA VIA KD-43X74K 43 inch UHD Smar t LED T V\\nView Photos (3)\\n55″ (139.7 cm) LED T V with HDR10\\n4K (3840 x 2160) R esolution\\nAndroid T V (Google T V)20W with Dolby Audio\\n2 USB P orts, 3 HDMI P orts\\n178° View Angle, 60 Hz R efresh Rate\\nSee Full Specifications  ❯₹ 68,990\\nSee more prices❯Sony BRA VIA KD-55X74K 55 inch UHD Smar t LED T V\\nView Photos (1)\\n55″ (139.7 cm) LED T V\\n4K (3840 x 2160) R esolution\\nAndroid T V (Google T V)2 Speakers, 20W with Dolby Audio\\n2 USB P orts, 3 HDMI P orts\\n178° View Angle, 60 Hz R efresh Rate\\nSee Full Specifications  ❯₹ 63,640\\nSee more prices❯Sony KD-55X75L 55 inch UHD Smar t LED T V\\nFilter by P opular Featur es\\nView Photos (1)\\n65″ (165.1 cm) LED T V with Dolby Vision\\n4K (3840 x 2160) R esolution\\nAndroid T V (Google T V), 32 GB S torage2 Speakers, 20W with Dolby Audio\\n2 USB P orts, 4 HDMI P orts\\n178° View Angle, 50 Hz R efresh Rate\\nSee Full Specifications  ❯₹ 104,490\\nSee more prices❯Sony BRA VIA KD-65X82L 65 inch UHD Smar t LED T V\\n₹ 151,990\\nSee more prices❯Sony BRA VIA KD-75X82L 75 inch UHD Smar t LED T V\\nQLED (0)OLED (18)\\nLED (144)\\nRefresh Rat e\\n60 Hz (30)\\n120 Hz (12)\\nFeatur es\\nAndroid T V (102)\\nSmart T V (143)\\nGoogle T V (40)\\nSpeak er Output\\n20 W and above (80)\\n30 W and above (2)\\n40 W and above (3)\\n50 W and above (2)\\nConnectivity\\n2 or more HDMI ports (118)\\n3 or more HDMI ports (88)\\n2 or more USB ports (118)4.7 ★\\n4.7 ★\\n4.7 ★\\n4.7 ★\\n40 Inch Andr oid T V Full HD4K/ Ultra HD /\\nUHDQLED T V\\n›\\n4.8 ★\\n4.8 ★979 Ratings\\n36.4K Ratings\\n36.5K Ratings\\n979 Ratings\\n450 Ratings\\n450 Ratings\\nBac', metadata={'source': 'pdfs/Sony TV.pdf', 'page': 1}), Document(page_content='View Photos (4)\\n75″ (190.5 cm) LED T V with Dolby Vision\\n4K (3840 x 2160) R esolution\\nAndroid T V (Google T V), 32 GB S torage20W with Dolby Audio\\n2 USB P orts, 4 HDMI P orts\\n50 Hz R efresh Rate\\nSee Full Specifications  ❯\\nView Photos (4)\\n50″ (127 cm) LED T V with HDR10\\n4K (3840 x 2160) R esolution\\nAndroid T V (Google T V), 16 GB S torage2 Speakers, 20W with Dolby Audio\\n2 USB P orts, 3 HDMI P orts\\n50 Hz R efresh Rate\\nSee Full Specifications  ❯₹ 57,940\\nSee more prices❯Sony BRA VIA KD-50X75L 50 inch UHD Smar t LED T V\\nView Photos (3)\\n32″ (81.28 cm) LED T V with HDR10\\nHD ready (1366 x 768) R esolution\\nAndroid T V (Google T V)2 Speakers, 20W with Dolby Audio\\n2 USB P orts, 3 HDMI P orts\\n178° View Angle, 60 Hz R efresh Rate\\nSee Full Specifications  ❯₹ 24,990\\nSee more prices❯Sony BRA VIA KD-32W820K 32 inch HD r eady Smar t …\\nView Photos (1)\\n55″ (139.7 cm) LED T V with Dolby Vision\\n4K (3840 x 2160) R esolution\\nAndroid T V (Google T V), 32 GB S torage2 Speakers, 20W with Dolby Audio\\n2 USB P orts, 4 HDMI P orts\\n50 Hz R efresh Rate\\nSee Full Specifications  ❯₹ 81,690\\nSee more prices❯Sony BRA VIA KD-55X82L 55 inch UHD Smar t LED T V\\nView Photos (3)\\n65″ (165.1 cm) LED T V\\n4K (3840 x 2160) R esolution\\nAndroid T V (Google T V)30W with Dolby Atmos\\n2 USB P orts, 4 HDMI P orts\\n178° View Angle, 120 Hz R efresh Rate\\nSee Full Specifications  ❯₹ 156,740\\nSee more prices❯Sony BRA VIA XR-65X90L 65 inch UHD Smar t LED T V\\nView Photos (5)\\n65″ (165.1 cm) LED T V with Dolby Vision\\n4K (3840 x 2160) R esolution\\nAndroid T V, 16 GB S torage30W\\n2 USB P orts, 4 HDMI P orts\\n120 Hz R efresh Rate\\nSee Full Specifications  ❯₹ 144,990\\nSee more prices❯Sony BRA VIA XR-65X90K 65 inch UHD Smar t LED T V\\n32″ (81.28 cm) LED T V with HDR10\\nHD ready (1366 x 768) R esolution2 Speakers, 20W with Dolby Audio\\n2 USB P orts, 3 HDMI P orts₹ 26,990\\nSee more prices❯Sony Bravia KD-32W830K 32 inch HD r eady Smar t L…4.8 ★\\n4.6 ★\\n4.8 ★\\n4.8 ★\\n4.8 ★\\n4.6 ★512 Ratings\\n3,649 Ratings\\n528 Ratings\\n95 Ratings\\n1,315 Ratings\\n787 Ratings\\nBac', metadata={'source': 'pdfs/Sony TV.pdf', 'page': 2}), Document(page_content='View Photos (3)Android T V (Google T V), 16 GB S torage 178° View Angle, 50 Hz R efresh Rate\\nSee Full Specifications  ❯\\nView Photos (1)\\n55″ (139.7 cm) LED T V with Dolby Vision\\n4K (3840 x 2160) R esolution\\nAndroid T V, 16 GB S torage30W with Dolby Audio\\n4 HDMI P orts\\n120 Hz R efresh Rate\\nSee Full Specifications  ❯₹ 99,990\\nSee more prices❯Sony BRA VIA XR-55X90K 55 inch UHD Smar t LED T V\\nView Photos (5)\\n75″ (190.5 cm) LED T V with Dolby Vision\\n4K (3840 x 2160) R esolution\\nAndroid T V, 16 GB S torage30W with Dolby Audio\\n2 USB P orts, 4 HDMI P orts\\n120 Hz R efresh Rate\\nSee Full Specifications  ❯₹ 246,990\\nSee more prices❯Sony BRA VIA XR-75X90K 75 inch UHD Smar t LED T V\\nView Photos (4)\\n43″ (109.22 cm) LED T V with HDR10\\n4K (3840 x 2160) R esolution\\nAndroid T V (Google T V), 16 GB S torage2 Speakers, 20W with Dolby Audio\\n2 USB P orts, 3 HDMI P orts\\n50 Hz R efresh Rate\\nSee Full Specifications  ❯₹ 47,490\\nSee more prices❯Sony BRA VIA KD-43X75L 43 inch UHD Smar t LED T V\\nView Photos (3)\\n55″ (139.7 cm) LED T V\\n4K (3840 x 2160) R esolution\\nAndroid T V (Google T V)30W with Dolby Atmos\\n2 USB P orts, 4 HDMI P orts\\n178° View Angle, 120 Hz R efresh Rate\\nSee Full Specifications  ❯₹ 118,740\\nSee more prices❯Sony BRA VIA XR-55X90L 55 inch UHD Smar t LED T V\\nView Photos (2)\\n55″ (139.7 cm) OLED T V with Dolby Vision\\n4K (3840 x 2160) R esolution\\nAndroid T V (Google T V), 16 GB S torage30W with Acoustic Surface Audio Plus\\n3 USB P orts, 4 HDMI P orts\\n178° View Angle, 100 Hz R efresh Rate\\nSee Full Specifications  ❯₹ 161,990\\nSee more prices❯Sony BRA VIA XR-55A80J 55 inch UHD Smar t OLED T V\\nView Photos (3)\\n55″ (139.7 cm) LED T V\\n4K (3840 x 2160) R esolution\\nAndroid T V (Google T V)20W with Dolby Atmos\\n2 USB P orts, 4 HDMI P orts\\n178° View Angle, 60 Hz R efresh Rate₹ 74,690\\nSee more prices❯Sony BRA VIA KD-55X80K 55 inch UHD Smar t LED T V4.8 ★\\n4.8 ★\\n4.7 ★\\n4.8 ★\\n4.8 ★\\n4.8 ★1,317 Ratings\\n1,311 Ratings\\n710 Ratings\\n95 Ratings\\n586 Ratings\\n1,407 Ratings\\nBac', metadata={'source': 'pdfs/Sony TV.pdf', 'page': 3}), Document(page_content='See Full Specifications  ❯\\nView Photos (2)\\n43″ (109.22 cm) LED T V with HDR10\\n4K (3840 x 2160) R esolution\\nAndroid T V (Google T V), 16 GB S torage2 Speakers, 20W with Dolby Audio\\n1 USB P ort, 3 HDMI P orts\\n178° View Angle, 50 Hz R efresh Rate\\nSee Full Specifications  ❯₹ 44,640\\nSee more prices❯Sony BRA VIA KD-43X70L 43 inch UHD Smar t LED T V\\nView Photos (5)\\n50″ (127 cm) LED T V with Dolby Vision\\n4K (3840 x 2160) R esolution\\nAndroid T V (Google T V), 16 GB S torage20W with Dolby Audio\\n2 USB P orts, 4 HDMI P orts\\n50 Hz R efresh Rate\\nSee Full Specifications  ❯₹ 75,990\\nSee more prices❯Sony BRA VIA KD-50X80K 50 inch UHD Smar t LED T V\\nView Photos (2)\\n50″ (127 cm) LED T V with HDR10\\n4K (3840 x 2160) R esolution\\nAndroid T V (Google T V), 16 GB S torage2 Speakers, 20W with Dolby Audio\\n1 USB P ort, 3 HDMI P orts\\n178° View Angle, 50 Hz R efresh Rate\\nSee Full Specifications  ❯₹ 55,090\\nSee more prices❯Sony BRA VIA KD-50X70L 50 inch UHD Smar t LED T V\\nView Photos (5)\\n83″ (210.82 cm) OLED T V\\n4K (3840 x 2160) R esolution\\n(Google T V)2 Speakers, 24W with Dolby Atmos\\n1 USB P ort, 2 HDMI P orts\\n178° View Angle\\nSee Full Specifications  ❯₹ 617,490\\nSee more prices❯Sony BRA VIA XR-83A80L 83 inch UHD Smar t OLED T V\\nView Photos (5)\\n65″ (165.1 cm) OLED T V with Dolby Vision\\n4K (3840 x 2160) R esolution\\nAndroid T V (Google T V), 16 GB S torage60W with DolbyAudio\\n2 USB P orts, 4 HDMI P orts\\n100 Hz R efresh Rate\\nSee Full Specifications  ❯₹ 265,990\\nSee more prices❯Sony XR-65A80K 65 inch UHD Smar t OLED T V\\nView Photos (5)\\n55″ (139.7 cm) OLED T V with Dolby Vision\\n4K (3840 x 2160) R esolution\\nAndroid T V (Google T V), 16 GB S torage50W with DolbyAudio\\n2 USB P orts, 4 HDMI P orts\\n100 Hz R efresh Rate\\nSee Full Specifications  ❯₹ 184,290\\nSee more prices❯Sony XR-55A80K 55 inch UHD Smar t OLED T V4.6 ★\\n4.8 ★\\n4.8 ★\\n4.5 ★\\n4.6 ★\\n4.6 ★242 Ratings\\n1,375 Ratings\\n149 Ratings\\n25 Ratings\\n760 Ratings\\n770 Ratings\\nBac', metadata={'source': 'pdfs/Sony TV.pdf', 'page': 4}), Document(page_content='View Photos (4)\\n43″ (109.22 cm) LED T V with Dolby Vision\\n4K (3840 x 2160) R esolution\\nAndroid T V (Google T V), 32 GB S torage2 Speakers, 20W with Dolby Audio\\n2 USB P orts, 4 HDMI P orts\\n50 Hz R efresh Rate\\nSee Full Specifications  ❯₹ 66,290\\nSee more prices❯Sony BRA VIA KD-43X80L 43 inch UHD Smar t LED T V\\nView Photos (5)\\n65″ (165.1 cm) LED T V with Dolby Vision\\n4K (3840 x 2160) R esolution\\nAndroid T V, 16 GB S torage20W with Dolby Audio\\n2 USB P orts, 4 HDMI P orts\\n50 Hz R efresh Rate\\nSee Full Specifications  ❯₹ 94,990\\nSee more prices❯Sony BRA VIA KD-65X80K 65 inch UHD Smar t LED T V\\nView Photos (4)\\n50″ (127 cm) LED T V with Dolby Vision\\n4K (3840 x 2160) R esolution\\nAndroid T V (Google T V), 32 GB S torage2 Speakers, 20W with Dolby Audio\\n2 USB P orts, 4 HDMI P orts\\n50 Hz R efresh Rate\\nSee Full Specifications  ❯₹ 75,990\\nSee more prices❯Sony BRA VIA KD-50X80L 50 inch UHD Smar t LED T V\\nView Photos (5)\\n77″ (195.58 cm) OLED T V\\n4K (3840 x 2160) R esolution\\nAndroid T V (Google T V)2 Speakers, 24W with Dolby Atmos\\n1 USB P ort, 2 HDMI P orts\\n178° View Angle\\nSee Full Specifications  ❯₹ 446,490\\nSee more prices❯Sony BRA VIA XR-77A80L 77 inch UHD Smar t OLED T V\\nView Photos (2)\\n65″ (165.1 cm) OLED T V\\n4K (3840 x 2160) R esolution\\n(Google T V)2 Speakers, 60W with Dolby Atmos\\n2 USB P orts, 4 HDMI P orts\\n178° View Angle, 120 Hz R efresh Rate\\nSee Full Specifications  ❯₹ 251,740\\nSee more prices❯Sony BRA VIA XR-65A80L 65 inch UHD Smar t OLED T V\\nView Photos (5)\\n55″ (139.7 cm) OLED T V\\n4K (3840 x 2160) R esolution\\nAndroid T V (Google T V)\\nSee Full Specifications  ❯₹ 175,740\\nSee more prices❯Sony BRA VIA XR-55A80L 55 inch UHD Smar t OLED T V4.8 ★\\n4.8 ★\\n4.8 ★\\n4.5 ★\\n4.5 ★\\n4.5 ★141 Ratings\\n1,401 Ratings\\n141 Ratings\\n25 Ratings\\n25 Ratings\\n25 Ratings\\nBac', metadata={'source': 'pdfs/Sony TV.pdf', 'page': 5}), Document(page_content=\"January - February 2016HP Consumer PC Product GuideHP ENVY Notebook\\nIMPOSSIBLY THIN. ENVIABLY ENGINEERED.\\nThin jus t \\ngot thinnerEngineer ed \\nfor ex cellenceImpr essive \\nendur anceRich Ent ertainment \\nExperienc e\\nWINDOWS 10. DO GREAT THINGS.With the superior performance and stunning design of the HP ENVY Notebook, \\nyou're always prepared for wherever the day takes you.\", metadata={'source': 'pdfs/hp-laptops.pdf', 'page': 0}), Document(page_content='Windows 10 is ﬁnally here and it\\'s amazing on HP PCs. We partnered with \\nMicrosoft to make it that way, so you can take your projects to a whole new level. Do something huge. Bend the rules.\\n\"It’s nice to see Chromebooks keeping up with \\nhigh-end laptops when it comes to connectivity, though. With two USB 3.0 ports, dual-band Wi-Fi, an HDMI port and Bluetooth 4.0, you’ll ﬁnd almost as much connectivity as you would on a high-end laptop.\"\"HP\\'s Spectre 13 Pro is a 13.3-inch Ultrabook with a \\nstrong build quality and a vibrant, 144op screen. It\\'s comfortable to use, it\\'s fast, and supplies decent battery life. It\\'s worth checking out if you\\'re after a new notebook for work or personal use.\"\\nAustralia, Good Gear Guide,10 March 2014\\nAustralia, Gizmodo, 6 March 2014\\nHP ENVY M6-1291 TXCHIP Silver Award (2013)\\nPC.Com Silver Award (2013)\\nHP x2401 24in LED MonitorHWM Silver Award (2013)\\nHP Consumer Notebooks\\nMajalah Tech Silver Award  (2013)\\nHP x2401 24in LED MonitorPC.Com Gold Award (2013)\\nHP ENVY x2\\nHP ENVY Ultrabook 4China, PC Magazine, 15 March 2014India, My Mobile, 1 April 2014\"The HP Slate6 will catch the eye due to its \\nsheer size, smart looks and solid build quality.\"\\n\"HP ENVY 17 Leap Motion SE is a verypowerful laptop for home entertainmentand gaming, in addition to the powerfulconﬁguration, its characteristic leap motionis also worth experiencing...\"Desktop of the Year (2014)\\nHP SPROUT Desktop PC\\nLaptop of the Year  (2014)\\nHP Stream 11 Notebook PC\\nBest Budget Laptop of the Year  (2014)\\nHP Stream 11 Notebook PC\\nBusiness Laptop of the Year (2014)\\nHP EliteBook Folio 1040 G1 Notebook PCBest-Designed Desktop of the Year \\n(2014)\\nHP Z1 G2 Desktop PCBest PC Laptops of the Year (2014)\\nHP ZBook 15 Notebook PC\\n4/5 Stars (2014)\\nHP ElitePad 1000 G2 Tablet\\nBest Laptops (2014)\\nHP ElitePad 1000 G2 Tablet\\nBest Laptops under $500 (2014)\\nHP Stream 11 Notebook PCHighly Rated (2014)HP Omen 15 Notebook PC\\n4/5 Stars (2014)\\nHP Omen 15 Notebook PC\\nPC Best MWC Award (2014)\\nHP Pavilion x360HP continues with its enviable heritage of winning awards with\\nthe latest range of personal computing.\\niF DESIGN AWARD 2015, Discipline Product  (2015)\\nHP OMEN GAMING NOTEOOOKBest of MWC Laptop 2015 Award\\nHP Spectre X360HP awards & accolades\\nAwards Year 2015\\nAwards Year 2014\\nAwards Year 2013\\nThe best Windows 10 experience. Windows 10 + HP. This is huge.', metadata={'source': 'pdfs/hp-laptops.pdf', 'page': 1}), Document(page_content='HP Spectre x360 Notebook series\\n360° of versatility. Zero compromises.\\nRM4,099#HP Spectre x2 Detachable \\n12-a016TU\\n• Intel® Core™ m3-6Y30 Processor\\n(0.9GHz, up to 2.2GHz, 4MB cache, 2 cores)\\n• Windows 10 (64-bit)\\n• System Memory On-board 4GB LPDDR3-1866 SDRAM; \\n128GB solid-state drive\\n• Intel® HD Graphics 515\\n• 12.0-inch Touchscreen (1920 x 1280)\\n• 2-year onsite warranty2(Natural Silver)\\n(P7G54PA#UUF)RM5,099#HP Spectre x360 13-4136TU\\n• Intel® Core™  i5-6200U Processor \\n(2.3GHz, up to 2.8GHz, 3MB cache, 2 cores)\\n• Windows 10 (64-bit)\\n• System Memory On-board 8GB LPDDR3-1866 \\nSDRAM Memory slot non-accessible; \\n128GB solid-state drive\\n• Intel® HD Graphics 520\\n• 13.3-inch Full HD Touchscreen (1920 x 1080)\\n• 2-year onsite warranty2(Natural Silver)\\n(T0Z15PA#UUF)Distinctive \\nversatility\\nThe unique, durable 360° hinge \\ntransitions seamlessly to four modes.Stunning style from \\nany angle\\nTurn heads with its ultra slim proﬁle, \\nsleek lines and stylish metal body.4Impressive performance. \\nAll-day portability.\\nUp to 12.5 hours of battery life, so you \\nnever miss a second of your connected life.5\\nHP Spectre x2 Notebook series\\nReinventing the detachable,\\none detail at a time.\\nPremium 2-in-1 \\nexperience\\nAll the power of a high-performance \\nPC, with the freeing versatility of a \\nFull HD tablet.Masterfully crafted\\nSculpted from solid aluminium, our \\nthinnest detachable combines \\nastonishing elegance with incredible durability.Untethered freedom\\nUp to 10 hours of battery life give you \\nfreedom to work beyond the outlet.Stunning style from any angle\\n15.9 mm   3.26 lbs\\nElevate your work and entertainment\\nProject to your TV\\nWirelessly send HD content from your PC to your \\nTV or other display for an even bigger picture \\nwithout the cumbersome cords.\\nRadiant Quad HD Display\\nWhile some ultra-thin notebooks compromise \\ncolor in the interest of battery life, the Spectre \\nx360 oﬀers a 72% color gamut so colors look \\nvibrant, natural and rich. View photos, videos, and \\ngames with stunning clarity from almost any angle \\non this 13-inch diagonal IPS touchscreen display.NEW\\nNEW', metadata={'source': 'pdfs/hp-laptops.pdf', 'page': 2}), Document(page_content=\"RM3,799#RM4,799#HP ENVY 13-d044TU\\n• Intel® Core™  i5-6200U Processor\\n(2.3GHz, up to 2.8GHz, 3MB cache, 2 cores)\\n• Windows 10 (64-bit)\\n• System Memory On-board 4GB LPDDR3-1600 \\nSDRAM; 128GB solid-state drive\\n• Intel® HD Graphics 520• 13.3-inch QHD+ (3200 x 1800)\\n• 2-year onsite warranty\\n2(Natural Silver)\\n(P7F42PA#UUF)HP ENVY 13-d045TU\\n• Intel® Core™ i7-6500U Processor\\n(2.5GHz, up to 3.1GHz 4MB cache, 2 cores)\\n• Windows 10 (64-bit)• System Memory On-board 8GB LPDDR3-1600 \\nSDRAM; 256GB solid-state drive\\n• Intel® HD Graphics 520• 13.3-inch QHD+ (3200 x 1800)\\n• 2-year onsite warranty\\n2(Natural Silver)\\n(P7F43PA#UUF)\\nRM5,099#HP ENVY 15-ae132TX\\n• Intel® Core™ i7-6500U Processor \\n(2.5GHz, up to 3.1GHz, 4MB cache, 2 cores)\\n• Windows 10 (64-bit)• System Memory 8GB DDR3L-1600 SDRAM (1 DIMM); \\n1TB (5400RPM) hard drive + 256GB solid-state drive\\n• NVIDIA® GeForce® GTX950M Graphics with 4096MB of \\ndedicated video memory\\n• 15.6-inch Full HD Touchscreen (1920 x 1080)\\n• 2-year onsite warranty\\n2(Natural Silver)\\n(P6M58PA#UUF)HP ENVY Notebook series\\nImpossibly thin. Enviably engineered.\\nThin just \\ngot thinnerEngineered for excellence Impressive endurance Rich Entertainment Experience\\nOur thinnest notebook yet \\nboasts an all-metal body and \\nstunning Full HD (1920 x \\n1080 resolution) or optional \\nQuad HD+ display (3200 x \\n1800 resolution).With Intel® Core™ processors, up to 256GB SSD, \\nand plenty of ports, this \\nbeauty is powered for \\nperformance.This lightweight notebook \\nfeatures a heavy-hitting \\nbattery, with up to 10 hours \\nof productivity.Indulge in an immersive visual \\ndisplay with IPS panel which oﬀers \\na wide viewing angle and let HP \\nwith Bang & Olufsen audio move \\nyou.\\nWeighing only 1.3 kg\\nWeighing in at 1.3 kg, this powerful \\nmachine travels light and won't \\nweigh you down.\\nUp to 5.7 million pixels\\nFeast your eyes on brighter and more vivid \\nvisual display as these two panel options \\nbring movies, photos and videos to life with \\nthe Full HD IPS or QHD+ IPS display6.\\nAudio by Bang & Olufsen\\nBang & Olufsen knows what it takes to make \\nevery note of your music ring true. So after \\ntesting by our own engineers, we ship \\nsamples to Denmark, where Bang & Olufsen's \\nTonemeister ensures our work lives up to \\ntheir exceptional standards.\\nUnique design\\nThe unique lifted hinge design \\nangles the keyboard up for a \\ncomfortable typing postition.\\nThin just got thinner\\nAt just 12.9 mm7, the thinnest notebook we’ve \\never made is guaranteed to intrigue with an \\nartfully-crafted aluminum and magnesium body.\\nNEW NEW NEW\", metadata={'source': 'pdfs/hp-laptops.pdf', 'page': 3}), Document(page_content='Notebook mode \\nto work\\nPay bills, update your \\ncalendar , and be \\nproductive.Tent mode to play\\nYour favorite games \\nand apps at your \\nﬁngertips.Stand mode to watch\\nPerfect for movies and \\nvideo conferencing.Tablet mode to go\\nFrom books to blogs, browse on-the-go.\\n9HP Pavilion x360 Convertible \\n11-k108TU/k109TU \\n• Intel® Pentium® N3700 Processor\\n(1.6GHz, up to 2.4GHz, 2MB cache, 4 cores)\\n• Windows 10 (64-bit)\\n• System Memory 4GB DDR3L-1600 SDRAM (1 DIMM); \\n500GB (5400RPM) hard drive\\n• Intel® HD Graphics\\n• 11.6-Inch Touchscreen (1366 x 768)\\n• 1-year onsite warranty1(Sunset Red/Minty Green)\\n(P3D42PA#UUF/P3D43PA#UUF)Immerse yourself in a truly \\nauthentic audio experience. Don’t \\njust listen...let HP with B&O Play \\nmove you.The brilliant red soft-touch \\ncoating gives you a comfortable \\nhold without the ﬁngerprints. 360° hinge for ultimate \\nﬂexibility.HP Convertible Notebook series\\n360° of versatility. One smart price.\\nNotebook\\nto workTent\\nto play\\nTablet\\nto goStand\\nto watchAnyway you want it\\nGo beyond notebook and tablet with stand and tent \\nmodes with ease thanks to \\nthe latchless magnetic hinge.With USB 2.0, Type C USB, \\nand micro-HDMI port on the \\ntablet, stay connected \\nwithout adapters or even \\nthe keyboard dock.Immerse yourself in a \\ntruly authentic audio \\nexperience. Don’t just \\nlisten… let HP with \\nB&O Play move you.Break free from the \\ncharger with up to 10:45 \\nhours of continuous \\nbattery.\\n8HP Detachable Notebook series\\nThe tablet that doubles as a notebook.RM1,899#\\nRM1,499#HP Pavilion x2 10-n118TU/n117TU\\n(Blizzard White/Sunset Red) \\n(P7G21PA#UUF/P7G20PA#UUF)\\n• Intel® Atom™ Z8300 Processor \\n(1.44GHz, 2MB cache, 4 cores)\\n• Windows 10 (64-bit)\\n• System Memory On-board 2GB DDR3L-1600 SDRAM; \\n32GB eMMC\\n• Intel® HD Graphics• 10.1-inch Touchscreen (1280 x 800)• 1-year onsite warranty\\n1\\nDurable ﬂexibility\\nThe new latchless magnetic hinge undergoes extensive quality testing. \\nWe tested the magnetic mechanisms by opening and closing 25 thousand \\ntimes and detaching and reattaching 10 thousand times.\\n', metadata={'source': 'pdfs/hp-laptops.pdf', 'page': 4}), Document(page_content='HP Pavilion\\nCobalt BlueHP PavilionNatural SilverHP Pavilion\\nBlizzard White\\nHP Pavilion Sunset RedHP Pavilion\\nPeachy PinkRM3,599#HP Pavilion Gaming \\n15-ak031TX\\n• 6th generation Intel® Core™ i5-6300HQ \\nProcessor \\n(2.3GHz, up to 3.2GHz, 6MB cache, 4 cores)\\n• Windows 10 (64-bit)\\n• System Memory 4GB DDR3L-1600 SDRAM \\n(1 DIMM); 1TB (5400RPM) hard drive\\n• NVIDIA® GeForce® GTX950M Graphics with \\n4096MB of dedicated video memory\\n• 15.6-inch Full HD (1920 x 1080)\\n• 2-year onsite warranty2(Twinkle Black)\\n(T0Z18PA#UUF)HP Pavilion Gaming\\n15-ak032TX\\n• 6th generation Intel® Core™ i7-6700HQ \\nProcessor \\n(2.6GHz, up to 3.5GHz, 6MB cache, 4 cores)\\n• Windows 10 (64-bit)\\n• System Memory 8GB DDR3L-1600 SDRAM \\n(1 DIMM); 1TB (5400RPM) hard drive\\n• NVIDIA® GeForce® GTX950M Graphics with \\n4096MB of dedicated video memory\\n• 15.6-inch Full HD (1920 x 1080 )\\n• 2-year onsite warranty2(Twinkle Black)\\n(T0Z19PA#UUF)\\nHP Pavilion \\n15-ab102AX/\\nab103AX/ab104AX\\n• AMD Quad-Core A10-8700P APU \\n(1.8/3.2GHz, 2MB L2 Cache)(15W)\\n• Windows 10 (64-bit)\\n• System Memory 4GB DDR3L-1600 SDRAM \\n(1 DIMM); 2TB 5400RPM HDD\\n• 2GB AMD Radeon™ R7 M360 Graphics • 15.6-inch Screen Size (1366 x 768)• 2-year onsite warranty\\n2(Natural Silver/Cobalt Blue/\\nPeachy Pink)\\n(P3D38PA#UUF/P3D39PA#UUF/P3D40PA#UUF)\\nRM2,599#RM4,299#\\nRM2,899#HP Pavilion \\n14-ab123TX/\\nab161TX/ab169TX\\n• Intel® Core™  i5-6200U Processor \\n(2.3GHz, up to 2.8GHz, 3MB cache, 2 cores)\\n• Windows 10 (64-bit)\\n• System Memory 4GB DDR3L-1600 SDRAM \\n(1 DIMM); 1TB 5400RPM HDD\\n• NVIDIA® GeForce® 940M Graphics with \\n2048MB of dedicated video memory\\n• 14-Inch Screen Size (1366 x 768)• 2-year onsite warranty\\n2(Natural Silver/Blizzard White/\\nSunset Red)\\n(P3U71PA#UUF/T5R07PAPA#UUF/T9F86PA#UUF)\\nRM2,899#\\n• Intel® Core™  i5-6200U Processor \\n(2.3GHz, up to 2.8GHz, 3MB cache, 2 cores)\\n• Windows 10 (64-bit)\\n• System Memory 4GB DDR3L-1600 SDRAM \\n(1 DIMM); 1TB 5400RPM HDD\\n• NVIDIA® GeForce® 940M Graphics with \\n2048MB of dedicated video memory\\n• 15.6-inch Screen Size (1366 x 768)\\n• 2-year onsite warranty2RM3,499#\\n• Intel® Core™ i7-6500U Processor \\n(2.5GHz, up to 3.1GHz, 4MB cache, 2 cores)\\n• Windows 10 (64-bit)\\n• System Memory 4GB DDR3L-1600 SDRAM \\n(1 DIMM); 1TB 5400RPM HDD\\n• NVIDIA® GeForce® 940M Graphics with \\n2048MB of dedicated video memory\\n• 15.6-inch Screen Size (1366 x 768)\\n• 2-year onsite warranty22TBGet truly impressive speeds with \\nthe latest processor technology.Increased memory eases multi-tasking and more storage means more entertainment.Colourful inside and out and with a new gradient-design around the keyboard.HP Pavilion Notebook seriesHP Pavilion Gaming Notebook series\\nExpressive colours. Impressive power.NEVER. STOP. GAMING\\nTake on any beast with \\nseriously powerful NVIDIA® \\nGTX™ 950M graphics.Cold-blooded design with \\naggressive green accents for a \\nsavage performance. Don’t just listen. Immerse \\nyourself in audio entertainment \\nthat moves you.Easy and secure access, no more \\ntyping out long passwords with \\nIntel® RealSense™ technology \\nand Windows Hello.\\nHP Pavilion \\n15-ab543TX/ab544TX/\\nab545TX/ab552TX\\n(Natural Silver/Blizzard White/\\nCobalt Blue/Peachy Pink)\\n(T9F87PA#UUF/T9F88PA#UUF/T9F89PA#UUF/T9G48PA#UUF)HP Pavilion \\n15-ab254TX/ab538TX/\\nab285TX/ab539TX\\n(Natural Silver/Blizzard White/\\nCobalt Blue/Peachy Pink)\\n(P3V38PA#UUF/T5R08PA#UUF/P6M16PA#UUF/T5R09PA#UUF)NEW\\nNEW NEW NEW NEWNEW', metadata={'source': 'pdfs/hp-laptops.pdf', 'page': 5}), Document(page_content=\"HP 14/15 Notebook series\\nFeature rich. Budget friendly.\\n14.0/15.6-inch diagonal HD BrightView \\nLED-backlit Display (1366x768) Reliable processing power Watch and write DVDs\\nHP 14 Notebook series HP 15 Notebook series\\nRM1,199#HP 14-ac134TU/\\nac146TU/ac136TU\\n• Intel® Celeron® N3050 Processor \\n(1.6GHz,up to 2.16GHz, 2MB cache, 2 cores)\\n• Windows 10 (64-bit)\\n• System Memory 2GB DDR3L-1600 SDRAM \\n(1 DIMM); 500GB (5400RPM) hard drive\\n• Intel® HD Graphics\\n• 14-inch Screen Size (1366 x 768)• 1-year onsite warranty\\n1(Jack Black/Turbo Silver/Flyer Red)\\n(P3D22PA#UUF/P3U58PA#UUF/P3D24PA#UUF)\\nRM1,599#HP 14-ac178TU/\\nac160TU/ac179TU\\n• Intel® Core™ i3-5005U Processor \\n(2GHz, 3MB Cache)\\n• Windows 10 (64-bit)\\n• System Memory 4GB DDR3L-1600 SDRAM \\n(1 DIMM); 500GB (5400RPM) hard drive\\n• Intel® HD Graphics 5500\\n• 14-inch Screen Size (1366 x 768)• 1-year onsite warranty\\n1(Jack Black/Turbo Silver/Flyer Red)\\n(T5R02PA#UUF/P4X91PA#UUF/T5R03PA#UUF)\\nRM1,899#HP 14-ac136TX/\\nac121TX/ac120TX\\n• Intel® Core™ i3-5005U Processor\\n(2GHz, 3MB cache, 2 cores)\\n• Windows 10 (64-bit)\\n• System Memory 4GB DDR3L-1600 SDRAM \\n(1 DIMM); 500GB (5400RPM) hard drive\\n• AMD Radeon R5 M330 Graphics (2 GB \\nDDR3 dedicated)\\n• 14-inch Screen Size (1366 x 768)• 1-year onsite warranty\\n1(Jack Black/Turbo Silver/Flyer Red)\\n(T5R44PA#UUF/P3U59PA#UUF/P3U56PA#UUF)\\nRM1,199#HP 15-ac188TU/\\nac624TU/ac625TU\\n• Intel® Celeron® N3050 Processor \\n(1.6GHz,up to 2.16GHz, 2MB cache, 2 cores)\\n• Windows 10 (64-bit)\\n• System Memory 2GB DDR3L-1600 SDRAM \\n(1 DIMM); 500GB (5400RPM) hard drive\\n• Intel® HD Graphics• 15.6-inch Screen Size (1366 x 768)• 1-year onsite warranty\\n1 (Jack Black/Turbo Silver/Flyer Red)\\n(T0X74PA#UUF/TSR42PA#UUF/TSR43PA#UUF)\\nRM1,399#HP 15-af149AU\\n• AMD Quad-Core A6-5200 APU \\n(2.0GHz, 2MB L2 Cache)\\n• Windows 10 (64-bit)• System Memory 2GB DDR3L-1600 SDRAM \\n(1 DIMM); 500GB (5400rpm) hard drive\\n• AMD Radeon™ HD 8400 Graphics• 15.6-inch Screen Size (1366 x 768)• 1-year onsite warranty\\n1(Turbo Silver)\\n(T5R49PA#UUF)\\nRM1,599#HP 15-ac614TU/\\nac152TU/ac615TU\\n• Intel® Core™ i3-5005U Processor \\n(2GHz, 3MB Cache)\\n• Windows 10 (64-bit) \\n• System Memory 4GB DDR3L-1600 SDRAM \\n(1 DIMM); 500GB (5400rpm) hard drive\\n• Intel® HD Graphics 5500\\n• 15.6-inch Screen Size (1366 x 768)\\n• 1-year onsite warranty1(Jack Black/Turbo Silver/Flyer Red)\\n(T5R05PA#UUF/P3V28PA#UUF/T5R06PA#UUF)\\nRM1,899#HP 15-ac197TX/\\nac198TX/ac199TX\\n• Intel® Core™ i3-5005U Processor\\n(2GHz, 3MB cache, 2 cores)\\n• Windows 10 (64-bit) \\n• System Memory 4GB DDR3L-1600 SDRAM \\n(1 DIMM); 500GB (5400rpm) hard drive\\n• AMD Radeon R5 M330 Graphics (2 GB \\nDDR3 dedicated)\\n• 15.6-inch Screen Size (1366 x 768)• 1-year onsite warranty\\n1(Jack Black/Turbo Silver/Flyer Red)\\n(T5R46PA#UUF/T5R47PA#UUF/T5R48PA#UUF)\\nRM2,099#HP 15-ac191TX/\\nac192TX/ac193TX\\n• Intel® Core™ i5-4210U Processor \\n(1.7GHz, up to 2.70GHz, 3M Cache, 2 cores)\\n• Windows 10 (64-bit)\\n• System Memory 4GB DDR3L-1600 SDRAM \\n(1 DIMM); 1TB (5400rpm) hard drive\\n• AMD Radeon R5 M330 Graphics (2 GB \\nDDR3 dedicated)\\n• 15.6-inch Screen Size (1366 x 768)\\n• 1-year onsite warranty1(Jack Black/Turbo Silver/Flyer Red)\\n(T5Q75PA#UUF/T5Q76PA#UUF/T5Q97PA#UUF)\\nWindows 10 is ﬁnally here and it's amazing on HP PCs. We \\npartnered with Microsoft to make it that way, so you can take your projects to a whole new level. Do something huge. Bend the rules.The best Windows 10 experience. \\nWindows 10 + HP. This is huge.\", metadata={'source': 'pdfs/hp-laptops.pdf', 'page': 6}), Document(page_content='HP Mouse & Keyboard HP Backpack\\nHP SleeveRM233#HP 15.6 Premium \\nBackpack\\n(J4Y52AA#UUF)\\nRM233#HP 15.6\"Odyssey Backpack\\n(Grey/Black)\\n(L8J89AA#UUF/L8J88AA#UUF)RM92#HP Wireless Classic \\nDesktop Keyboard \\n& Mouse\\n(J8F13AA#UUF)\\nRM217#HP 15.6 Premium \\nMessenger\\n(J4Y51AA#UUF)HP Accessories\\nTrusted HP Accessories.\\nHP Speaker\\nHP HeadsetRM158#HP Roar Mini Wireless \\nSpeaker\\n(G1K47AA#UUF/G1K48AA#UUF/\\nG1K49AA#UUF)(White/Orange/Neon Green)\\nRM328#HP Roar Wireless \\nSpeaker\\n(F6S95AA#UUF/F6S96AA#UUF/\\nF6S97AA#UUF)(Yellow/White/Blue)RM127#HP Wireless Mini \\nSpeaker S6000\\n(G3Q05AA#UUF/G3Q06AA#UUF/\\nG3Q07AA#UUF/F7U49AA#UUF)(Orange/Purple/Graphite/White)\\nRM100#HP Bluetooth \\nHeadset H3200\\n(G1Y52AA#UUF/G1Y53AA#UUF\\n/G1Y54AA#UUF/G1Y55AA#UUF)(White/Black/Orange/Green)RM577#HP Roar Plus \\nWireless Speaker\\n(G0H96AA#UUF/G0H97AA#UUF/\\nG0H98AA#UUF)(Black/Blue/Purple)\\nRM180#HP H5000 Wireless \\nStereo Headset\\n(J2X00AA#UUF/J2X01AA#UUF\\n/J2X02AA#UUF/J2X03AA#UUF)(White/Black/Neon Purple/Neon Orange)RM49#HP In-Ear \\nHeadset H2310\\n(M2J40AA#UUF/M2J39AA#UUF/M2J38AA#UUF/\\nJ8H45AA#UUF/J8H44AA#UUF/J8H43AA#UUF/J8H42AA#UUF)(Purple/Blue/Coral/Red black/Pink/White/Black)\\nRM57#HP Headset\\nH2800\\n(F6J04AA#UUF/F6J06AA#UUF/F6J05AA#UUF\\n/J8F10AA#UUF/J9C30AA#UUF)(White/Purlple/Orange/Black/Blue)', metadata={'source': 'pdfs/hp-laptops.pdf', 'page': 7}), Document(page_content='RM1,499#Advanced graphics and dual display support \\nfor performance that stands out.Proven reliability from rigorous hardware testing.Immerse yourself in a truly authentic audio experience with B&O Play audio.\\nHP Pavilion 23 series\\nHP 20-e032d \\nAll-in-One PC\\n• Intel® Celeron® N3050 Processor \\n(1.6GHz, up to 2.16GHz, 2MB L2 Cache)\\n• Windows 10 (64-bit)\\n• System Memory 2GB DDR3L-1600 \\nSODIMM (1x2GB) RAM; 500GB 5400 RPM \\nSATA 6G 2.5 HDD\\n• Down Integrated In Chipset\\n• 19.45-inch 16:9 1600 x 900 WLED NG \\nNZ LCD\\n• 1-year onsite warranty1(N4Q07AA#UUF)\\nRM1,599#HP 20-e031d \\nAll-in-One PC\\n• Intel® Pentium® N3700 Processor \\n(1.6GHz, up to 2.16GHz, 2MB L2 Cache)\\n• Windows 10 (64-bit)\\n• System Memory 2GB DDR3L-1600 \\nSODIMM (1x2GB) RAM; 500GB 5400 RPM \\nSATA 6G 2.5 HDD\\n• Down Integrated In Chipset\\n• 19.45-inch 16:9 1600 x 900 WLED NG \\nNZ LCD\\n• 1-year onsite warranty1(N4Q06AA#UUF)RM2,899#HP Pavilion Touchsmart\\n23-q145d All-in-One PC\\n• AMD Carrizo A10-8700P Quad-Core APU \\n(1.8GHz, 2MB L2 Cache)(15W)\\n• Windows 10 (64-bit)\\n• System Memory 8GB DDR3L-1600 \\nSODIMM (1x8GB) RAM; 1TB 7200 RPM \\nSATA 6G 3.5 HDD\\n• Down Integrated In Chipset\\n• 23-inch Touch 16:9 1920 x 1080 WLED \\nNGlare NZBD\\n• 3-year onsite warranty3(N4S94AA#UUF)\\nRM3,799#HP Pavilion 23-q139d\\nAll-in-One PC\\n• Intel® Core™ i5-6400T Processor \\n(2.2GHz, up to 2.8GHz 4 Core, 6MB)\\n• Windows 10 (64-bit)\\n• System Memory 4GB DDR3L-1600 \\nSODIMM (1x4GB) RAM; 1TB 7200 RPM \\nSATA 6G 3.5 HDD\\n• AMD R7 A360 2G Discrete Graphic\\n• 23-inch 16:9 1920 x 1080 WLED \\nNGlare NZBD NT\\n• 3-year onsite warranty3(N4Q39AA#UUF)\\nRM3,999#HP Pavilion Touchsmart \\n23-q137d All-in-One PC\\n• Intel® Core™ i5-6400T Processor \\n(2.2GHz, up to 2.8GHz 4 Core, 6MB)\\n• Windows 10 (64-bit)\\n• System Memory 4GB DDR3L-1600 \\nSODIMM (1x4GB) RAM; 1TB 7200 RPM SATA 6G 3.5 HDD\\n• AMD R7 A360 2G Discrete Graphic\\n• 23-inch Touch 16:9 1920 x 1080 WLED \\nNGlare NZBD T\\n• 3-year onsite warranty\\n3(N4Q37AA#UUF)HP Pavilion All-in-One series\\nMore than a PC. A centerpiece.\\nRM2,699#HP 23-r135d \\nAll-in-One PC\\n• Intel® Core™ i3-4170T Processor \\n(3.2GHz 2 Core, 3MB)\\n• Windows 10 (64-bit)\\n• System Memory 4GB DDR3L-1600 \\nSODIMM (1x4GB) RAM ;1TB 7200 RPM \\nSATA 6G 3.5 HDD\\n• Down Integrated In Chipset\\n• 23-inch 16:9 1920 x 1080 WLED• 3-year onsite warranty\\n3(N4Q35AA#UUF)RM5,999#HP Pavilion Touchsmart \\n27-n143d All-in-One PC\\n• Intel® Core™ i7-6700T Processor  \\n(2.8 GHz, up to 3.6GHz, 8MB cache, 4 cores)\\n• Windows 10 (64-bit)\\n• System Memory 8GB DDR3L-1600 SODIMM \\n(1x8GB) RAM; 2TB 7200 RPM SATA 6G 1st \\nHard Drive\\n• AMD Radeon R7 A360 (4 GB DDR3 dedicated)\\n• 27-inch 16:9 1920 x 1080 WLED NZBD \\nWVA Pnl T\\n• 3-year onsite warranty3(N4Q43AA#UUF)\\nThe new HP PAVILION \\nAll-in-One series\\nThe wow factor\\nWith a beatifully engineered \\naluminiun-coated stand and a soft \\npearl-coat ﬁnish, this All-in-One brings \\nyour interior design to the next level.NEW\\nAlso available', metadata={'source': 'pdfs/hp-laptops.pdf', 'page': 8}), Document(page_content='Advanced graphics and dual display support \\nfor performance that stands out.Proven reliability from rigorous hardware testing.Immerse yourself in a truly authentic audio experience with B&O Play audio.HP Pavilion Desktop PC series\\nMagniﬁed performance \\nwith stylish redesign.\\nHP 251-a146d\\n• Intel® Celeron® Processor J1800 \\n(2.41GHz, up to 2.58GHz, 2 cores, 1MB)\\n• Windows 10 (64-bit)\\n• System Memory 2GB DDR3L-1600 SODIMM \\n(1x2GB) RAM; 500GB 7200 RPM SATA 6G \\n3.5 HDD\\n• Down Integrated In Chipset\\n• 1-year onsite warranty1RM1,099#(Black)\\n(P4M07AA#UUF)HP Slimline 455-012d\\n• Intel® Core™ i3-4170 \\n(3.7GHz, 3MB cache, 2 cores)\\n• Windows 10 (64-bit)• System Memory 2GB DDR3-1600 DIMM \\n(1x2GB) RAM; 1TB 7200 RPM SATA 6G \\n3.5 HDD\\n• Down Integrated In Chipset\\n• 1-year onsite warranty\\n1RM1,549#(Black)\\n(P4M25AA#UUF)HP 251-a150d\\n• Intel® Pentium® J2900 Processor \\n(2.4GHz 4 Core, 2MB)\\n• Windows 10 (64-bit)\\n• System Memory 2GB DDR3L-1600 DIMM \\n(1x2GB) RAM; 500GB 7200 RPM SATA 6G \\n3.5 HDD\\n• Down Integrated In Chipset\\n• 1-year onsite warranty1RM1,299#HP Slimline 450-134d\\n• Intel® Core™ i5-4460T \\n(1.9GHz 4 Core, 6MB)\\n• Windows 10 (64-bit)\\n• System Memory 4GB DDR3-1600 \\n(1x4GB) RAM; 1TB 7200 RPM SATA 6G \\n3.5 HDD\\n• Down Integrated In Chipset\\n• 1-year onsite warranty1RM1,999#(Black)\\n(N4R23AA#UUF)(Black)\\n(P4L54AA#UUF)HP Pavilion \\n550-157d/166d\\n• Intel® Core™ i3-6100 Processor \\n(3.7GHz 2 Core, 3MB)\\n• Windows 10 (64-bit)\\n• System Memory 4GB DDR3L-1600 DIMM \\n(1x4GB) RAM; 1TB 7200 RPM SATA 6G \\n3.5 HDD\\n• Down Integrated In Chipset\\n• 3-year onsite warranty3RM1,999#(Red/White)\\n(P4M24AA#UUF/P4M55AA#UUF)HP Pavilion 550-168d\\n• Intel® Core™ i7-6700 Processor \\n(3.4GHz, up to 4GHz, 8MB cache, 4 cores)\\n• Windows 10 (64-bit)\\n• System Memory 4GB DDR3L-1600 DIMM \\n(1x4GB) RAM; 1TB 7200 RPM SATA 6G \\n3.5 HDD\\n• NVIDIA GeForce GT 730 2GB DDR3 FH GFX\\n• 3-year onsite warranty3RM3,499#(White)\\n(P4M80AA#UUF)HP Pavilion 550-142d\\n• Intel® Core™ i5-6400 Processor \\n(2.7GHz, up to 3.3GHz 4 Core, 6MB)\\n• Windows 10 (64-bit)\\n• System Memory 4GB DDR3L-1600 DIMM \\n(1x4GB) RAM; 1TB 7200 RPM SATA 6G 3.5 HDD\\n• NVIDIA GeForce GT 730 2GB DDR3 FH GFX\\n• 3-year onsite warranty\\n3RM2,499#(White)\\n(N4R34AA#UUF)\\nA stylishly redesigned tower\\nWith an iconic design featuring the \\nsignature vertical line and modern colour \\noptions, this desktop belongs where it \\nshould be: on the desk, not hidden under .NEW NEW\\nNEWAlso available', metadata={'source': 'pdfs/hp-laptops.pdf', 'page': 9}), Document(page_content='1. 1-year local onsite warranty inclusive of 1 year limited international warranty (part/labor/carry-in) • 2. 2-year local onsite warranty inclusive of 1 year limited international warranty (part/labor/carry-in) • 3. 3-year local onsite warranty inclusive \\nof 1 year limited international warranty (part/labor/carry-in) • 4. 15.9mm at the hinge. • 5. Windows 10/ MM14 battery life will vary depending on various factors including product model, conﬁguration, loaded applications, features, use, wireless \\nfunctionality, and power management settings. The maximum capacity of the battery will naturally decrease with time and usage. See www.bapco.com for additional details. • 6. FHD (Full high Deﬁnition) content required to view HD images. QHD \\n(Quad High Deﬁnition) content required to view QHD images. • 7. z-height measuring 12.9 mm (rear). • 8. Battery life tested by HP using continuous Full HD video playback, 1080p (1920x1080) resolution, 80% (150 nits) brightness, system audio \\nlevel at 50%, player audio level at 100%, played from local storage, headphone attached, wireless oﬀ, auto dimming oﬀ. Actual battery life will vary depending on conﬁguration and maximum capacity will naturally decrease with time and usage. • \\n9. Internet service required and not included. • 10. High deﬁnition (HD) content is required to view high-deﬁnition images. • 11. Multi-Core is designed to improve performance of certain software products. Not all customers or software applications \\nwill necessarily beneﬁt from use of this technology. Performance will vary depending on your hardware and software conﬁgurations. Intel’s numbering is not a measurement of higher performance.•  #  Prices shown are inclusive 6% GST. • HP \\nreserves the right to change, amend and modify the information without prior notice. • Images shown are for illustrative purposes only. • Other terms and conditions may apply.Onsite\\nHave peace of mind \\nwith HP ONSITE Support Warranty.HP ServicesHP Monitor series \\nThe perfect display.\\n(J7Y66AS#AB4)HP Pavilion 22cw \\n21.5-inch IPS LED \\nBacklit Monitor\\nRM589#RM669#(J7Y74AS#AB4)HP Pavilion 23cw \\n23-inch IPS LED Backlit Monitor\\nRM939#HP Pavilion 25cw \\n25-inch IPS LED Backlit Monitor\\n(J7Y64AS#AB4)\\nRM1,119#HP Pavilion 27cw \\n27-inch IPS LED Backlit Monitor\\n(J7Y62AS#AB4) (F4Z63AS#AB4)HP 20wd \\n19.45-inch LED \\nBacklit Monitor\\nRM359#(N1U84AA#AB4)HP 23vx 23-inch \\nIPS LED Backlit \\nMonitor\\nRM639#(N1U83AA#AB4)HP 22vx 21.5-inch \\nIPS LED Backlit \\nMonitor\\nRM499#HP ENVY 750-103d\\n• Intel® Core™ i7-6700 Processor \\n(3.4GHz, up to 4GHz, 8MB cache, 4 cores)\\n• Windows 10 (64-bit)\\n• System Memory 8GB DDR4-2133 (1x8GB) RAM; \\n1TB 7200 RPM SATA 6G 3.5 HDD\\n• NVIDIA GeForce GTX 745 4GB DDR3 FH GFX\\n• 3-year onsite warranty3RM4,299#(Aluminum Color)\\n(P4L20AA#UUF)A brushed metal ﬁnish \\nfor a stylish PC you can proudly display.Do more with an expandable Intel® Core™ i7 processor .Support up to two display monitor and comes with editing software and NVIDIA \\nGTX graphics.Easily support up to four \\nmonitors with 4K resolution for an ultimate visual \\nexperience.HP ENVY Desktop series\\nDesigned to inspire you.\\nStunning \\nvisual qualityFull HD resolutionBezel-less designMultiple connectivity\\nVGA\\nDVI-D\\nHDMI\\nDisplayPortState-of-the-art Audio by Bang & \\nOlufsen on your PC, where entertainment comes alive.\\nplease call our Toll Free Hotline : 1800-88-8588 (Monday - Friday : 8.30am - 5.30pm) or log on to  www.hp.com.my/support\\nNEW', metadata={'source': 'pdfs/hp-laptops.pdf', 'page': 10}), Document(page_content='Over 1,100 images\\nEnjoy almost 40 years of Star Wars™ history with \\n\"concept art\" created by Lucasﬁlm artists before the \\nﬁlms were made, a collection of storyboards which were \\nactually used to guide ﬁlming, and behind-the-scenes photos, set designs, costumes, models, and more.\\nSound schemes and wallpapers\\nReplace standard notiﬁcations with iconic Star Wars™ sounds including R2-D2 and lightsabers. Choose among \\nStar Wars™ themed wallpaper collections including \\nblack and white stills, ships, Tatooine, and more.\\nAurebesh font\\nType like you’re a citizen of Coruscant. Aurebesh, the Galactic Base Standard language, comes loaded in the \\nfont library of the Star Wars™ Special Edition Notebook.\\nBonus features\\nThe ﬁrst Marvel Star Wars™ comic in the series, \\ne-book excerpts from the Star Wars™ Universe and \\nStar Wars™ movie trailers all come pre-loaded on \\nthe Star Wars™ Special Edition Notebook.\\nWitness its power\\n© & TM Lucasﬁlm Ltd.Full HD Display\\nA dazzling view with an extra wide viewing angle \\ncan only be found on the \\n15-inch diagonal FHD display, and the optional touchscreen lets you \\neasily control your Star \\nWars™  Special Edition Notebook with a ﬁnger .\\n10\\nReliable processing \\npower\\nHandle all your everyday \\ntasks easily. With Intel® \\nProcessors, get the \\nreliable performance you expect and quality you can count on.\\n11Audio by B&O PLAY\\nWatching movies will never be the same. \\nDon\\'t just listen. Let \\nHP with Audio by B&O PLAY move you.Dark side inspired\\nFully armed and operational, there\\'s no \\nother notebook like it in the galaxy. \\nWith a Galactic Empire-inspired design, commanding Intel® Core™ processor\\n4, and \\nextensive collection of rare STAR WARS content, you won’t be able to resist the power of the dark side.\\nRed backlit keyboard\\nUnleash your inner Sith \\nwith glowing red backlit \\nkeys. Keep going even in \\ndimly lit rooms with an illuminated keyboard.STAR WARS™ Special Edition Notebook series\\nYou don\\'t know the powerof the dark side.\\nA most impressive special \\nedition notebook with an ominous dark side design.Immerse yourself in STAR WARS with rare wallpapers, screensavers and more from the STAR WARS archives.An Intel® Core™ processor\\n11 \\nand Full HD display10 for \\ngalaxy-spanning power .\\n(Star Wars Special Edition in Darkside Black)\\n(T0Z35PA#UUF)Star Wars™ 15-an008TX\\n• 6th generation Intel® Core™ i5-6200U Processor \\n(2.3GHz, up to 2.8GHz, 3MB cache, 2 cores)\\n• Windows 10 (64-bit)\\n• System Memory 8GB DDR3L-1600 SDRAM (1 DIMM); \\n1TB (5400RPM) hard drive\\n• NVIDIA® GeForce® 940M Graphics with 2048MB of \\ndedicated video memory\\n• 15.6-inch Full HD (1920 x 1080 )\\n• 2-year onsite warranty2RM4,099#NEW', metadata={'source': 'pdfs/hp-laptops.pdf', 'page': 11})]\n"
          ]
        }
      ],
      "source": [
        "print(data)"
      ]
    },
    {
      "cell_type": "code",
      "execution_count": 8,
      "metadata": {
        "id": "HLhR6CoXUfOu"
      },
      "outputs": [],
      "source": [
        "text_splitter = RecursiveCharacterTextSplitter(chunk_size=500, chunk_overlap=20)"
      ]
    },
    {
      "cell_type": "code",
      "execution_count": 9,
      "metadata": {
        "id": "a4Fw2WOKUrSV"
      },
      "outputs": [],
      "source": [
        "docs = text_splitter.split_documents(data)"
      ]
    },
    {
      "cell_type": "code",
      "execution_count": 10,
      "metadata": {
        "colab": {
          "base_uri": "https://localhost:8080/"
        },
        "id": "BbKLU-4AUtJ_",
        "outputId": "8a461ed4-909b-4368-a9c2-75b2dcc24c6a"
      },
      "outputs": [
        {
          "output_type": "stream",
          "name": "stdout",
          "text": [
            "137\n"
          ]
        }
      ],
      "source": [
        "print(len(docs))"
      ]
    },
    {
      "cell_type": "code",
      "execution_count": 11,
      "metadata": {
        "colab": {
          "base_uri": "https://localhost:8080/"
        },
        "id": "H4rlx6tMUvC1",
        "outputId": "46220752-1af2-415d-9b6a-1d6cd9aa61e2"
      },
      "outputs": [
        {
          "output_type": "execute_result",
          "data": {
            "text/plain": [
              "Document(page_content='DISPLAY\\nScreen Size (inch) cm (65)164cm, (55)139cm,  (50)126cm\\nModel Number 65GloLED  I  55GloLED  I 50GloLED  \\nResolution & Backlight Source 3840  x 2160, DLED\\nPanel Technology Glo Panel\\nBrightness 400 Nits\\nPanel Refresh Rate 60Hz\\nWide Color Gamut Yes\\nColour Depth 10 Bit\\nHigh Dynamic Range Dolby Vision IQ, HDR10+, HLG\\nColor Volume 94% NTSC\\nActive Contrast Yes\\nGame Feature Game Mode, ALLM, VRR\\nMEMC YesAudio Output 104 watt Speakers\\nNumber of Speakers Master x 4  ISub-woofer x 1', metadata={'source': 'pdfs/vu tv.pdf', 'page': 1})"
            ]
          },
          "metadata": {},
          "execution_count": 11
        }
      ],
      "source": [
        "docs[3]"
      ]
    },
    {
      "cell_type": "code",
      "execution_count": 12,
      "metadata": {
        "colab": {
          "base_uri": "https://localhost:8080/"
        },
        "id": "W4jnJbsDUxtF",
        "outputId": "ef0fb1f0-f8ef-4fb2-b614-46d9b3208f80"
      },
      "outputs": [
        {
          "output_type": "execute_result",
          "data": {
            "text/plain": [
              "Document(page_content='Sub-Woofer Control Yes\\nDolby Audio MS12, Dolby, Dolby Digital, \\nDolby Digital Plus\\nAudio Enhancement Type Dolby Atmos\\nAudio Only Mode Yes\\nExternal Speaker Connection TV/ eARC / ARC/ SPDIF/ Bluetooth\\n4K @ 60Hz Yes\\nHDMI version HDMI 2.1\\nProcessor Glo AI Processor\\nStorage / DDR RAM 16GB / 2GB\\nGPU Yes\\nGame Mode Yes\\nALLM Yes\\nVRR Yes\\nDimensions with stand \\n(WxHxD ) in mm(65) 1447 ×907 ×345\\n(55) 1230 ×773 ×305\\n(50) 1116 ×710 ×305\\nDimensions without stand \\n(WxHxD ) in mm(65) 1447 ×839 ×76', metadata={'source': 'pdfs/vu tv.pdf', 'page': 1})"
            ]
          },
          "metadata": {},
          "execution_count": 12
        }
      ],
      "source": [
        "docs[4]"
      ]
    },
    {
      "cell_type": "code",
      "execution_count": 13,
      "metadata": {
        "id": "kLnV1IS9UzmF"
      },
      "outputs": [],
      "source": [
        "embeddings = HuggingFaceEmbeddings(model_name='sentence-transformers/all-MiniLM-L6-v2')\n"
      ]
    },
    {
      "cell_type": "code",
      "execution_count": 14,
      "metadata": {
        "id": "Sc_tK3mnVDWN"
      },
      "outputs": [],
      "source": [
        "query_result = embeddings.embed_query(\"Hello World\")"
      ]
    },
    {
      "cell_type": "code",
      "execution_count": 15,
      "metadata": {
        "colab": {
          "base_uri": "https://localhost:8080/"
        },
        "id": "cqiFClikVGGN",
        "outputId": "ae71f1db-1e80-4ae7-ed16-70d408bbc9bb"
      },
      "outputs": [
        {
          "output_type": "stream",
          "name": "stdout",
          "text": [
            "Length 384\n"
          ]
        }
      ],
      "source": [
        "print(\"Length\", len(query_result))\n"
      ]
    },
    {
      "cell_type": "code",
      "execution_count": 16,
      "metadata": {
        "id": "W9EPo6zUWLlg"
      },
      "outputs": [],
      "source": [
        "PINECONE_API_KEY = os.environ.get('PINECONE_API_KEY', 'GET YOUR API KEY FROM PINECONE')\n",
        "PINECONE_API_ENV = os.environ.get('PINECONE_API_ENV', 'GET YOUR ENVIRONMENT FROM PINECONE')\n",
        "\n",
        "\n"
      ]
    },
    {
      "cell_type": "code",
      "execution_count": null,
      "metadata": {
        "colab": {
          "base_uri": "https://localhost:8080/"
        },
        "id": "m3M0b9_2gV-Q",
        "outputId": "3cc5ff05-2777-4a20-d401-cc51645900ee"
      },
      "outputs": [
        {
          "name": "stdout",
          "output_type": "stream",
          "text": [
            "Requirement already satisfied: pinecone_client==2.2.2 in /usr/local/lib/python3.10/dist-packages (2.2.2)\n",
            "Requirement already satisfied: requests>=2.19.0 in /usr/local/lib/python3.10/dist-packages (from pinecone_client==2.2.2) (2.31.0)\n",
            "Requirement already satisfied: pyyaml>=5.4 in /usr/local/lib/python3.10/dist-packages (from pinecone_client==2.2.2) (6.0.1)\n",
            "Requirement already satisfied: loguru>=0.5.0 in /usr/local/lib/python3.10/dist-packages (from pinecone_client==2.2.2) (0.7.2)\n",
            "Requirement already satisfied: typing-extensions>=3.7.4 in /usr/local/lib/python3.10/dist-packages (from pinecone_client==2.2.2) (4.5.0)\n",
            "Requirement already satisfied: dnspython>=2.0.0 in /usr/local/lib/python3.10/dist-packages (from pinecone_client==2.2.2) (2.5.0)\n",
            "Requirement already satisfied: python-dateutil>=2.5.3 in /usr/local/lib/python3.10/dist-packages (from pinecone_client==2.2.2) (2.8.2)\n",
            "Requirement already satisfied: urllib3>=1.21.1 in /usr/local/lib/python3.10/dist-packages (from pinecone_client==2.2.2) (2.0.7)\n",
            "Requirement already satisfied: tqdm>=4.64.1 in /usr/local/lib/python3.10/dist-packages (from pinecone_client==2.2.2) (4.66.1)\n",
            "Requirement already satisfied: numpy>=1.22.0 in /usr/local/lib/python3.10/dist-packages (from pinecone_client==2.2.2) (1.23.5)\n",
            "Requirement already satisfied: six>=1.5 in /usr/local/lib/python3.10/dist-packages (from python-dateutil>=2.5.3->pinecone_client==2.2.2) (1.16.0)\n",
            "Requirement already satisfied: charset-normalizer<4,>=2 in /usr/local/lib/python3.10/dist-packages (from requests>=2.19.0->pinecone_client==2.2.2) (3.3.2)\n",
            "Requirement already satisfied: idna<4,>=2.5 in /usr/local/lib/python3.10/dist-packages (from requests>=2.19.0->pinecone_client==2.2.2) (3.6)\n",
            "Requirement already satisfied: certifi>=2017.4.17 in /usr/local/lib/python3.10/dist-packages (from requests>=2.19.0->pinecone_client==2.2.2) (2023.11.17)\n"
          ]
        }
      ],
      "source": [
        "!pip install pinecone_client==2.2.2"
      ]
    },
    {
      "cell_type": "code",
      "execution_count": 17,
      "metadata": {
        "id": "u-icZV1EeYOw"
      },
      "outputs": [],
      "source": [
        "pinecone.init(\n",
        "    api_key=PINECONE_API_KEY,  # find at app.pinecone.io\n",
        "    environment=PINECONE_API_ENV  # next to api key in console\n",
        ")\n",
        "index_name = \"langchainpinecone\" # put in the name of your pinecone index here"
      ]
    },
    {
      "cell_type": "code",
      "execution_count": 18,
      "metadata": {
        "id": "ReR5FHFtf2JQ"
      },
      "outputs": [],
      "source": [
        "docsearch=Pinecone.from_texts([t.page_content for t in docs], embeddings, index_name=index_name)\n"
      ]
    },
    {
      "cell_type": "code",
      "execution_count": 19,
      "metadata": {
        "id": "GIW2_Q-8mYEx"
      },
      "outputs": [],
      "source": [
        "query = \"Suggest me a laptop at $500\""
      ]
    },
    {
      "cell_type": "code",
      "execution_count": 20,
      "metadata": {
        "id": "NTSaG4Lvme_X"
      },
      "outputs": [],
      "source": [
        "docs = docsearch.similarity_search(query, k=4)"
      ]
    },
    {
      "cell_type": "code",
      "execution_count": 21,
      "metadata": {
        "colab": {
          "base_uri": "https://localhost:8080/"
        },
        "id": "8zdKvCwcmiIP",
        "outputId": "eca87f43-c845-478f-b796-7eadde41a91c"
      },
      "outputs": [
        {
          "output_type": "execute_result",
          "data": {
            "text/plain": [
              "[Document(page_content='Laptop\\nNAME\\n:\\nAsus\\nvivobook\\n16\\nLaptop\\nPrice\\n:\\n65,000\\nLaptop\\nRam\\n:\\n16\\ngb\\nLaptop\\nHDD\\n:\\n512\\ngb'),\n",
              " Document(page_content='Laptop\\nNAME\\n:\\nAsus\\nvivobook\\n16\\nLaptop\\nPrice\\n:\\n65,000\\nLaptop\\nRam\\n:\\n16\\ngb\\nLaptop\\nHDD\\n:\\n512\\ngb'),\n",
              " Document(page_content='Laptop\\nNAME\\n:\\nAsus\\nvivobook\\n16\\nLaptop\\nPrice\\n:\\n65,000\\nLaptop\\nRam\\n:\\n16\\ngb\\nLaptop\\nHDD\\n:\\n512\\ngb'),\n",
              " Document(page_content='Laptop\\nNAME\\n:\\nAsus\\nvivobook\\n16\\nLaptop\\nPrice\\n:\\n65,000\\nLaptop\\nRam\\n:\\n16\\ngb\\nLaptop\\nHDD\\n:\\n512\\ngb')]"
            ]
          },
          "metadata": {},
          "execution_count": 21
        }
      ],
      "source": [
        "docs"
      ]
    },
    {
      "cell_type": "code",
      "execution_count": 22,
      "metadata": {
        "colab": {
          "base_uri": "https://localhost:8080/"
        },
        "id": "OjSKj6rNot8V",
        "outputId": "661b04d6-b399-487d-bb23-5951b42ce92a"
      },
      "outputs": [
        {
          "output_type": "stream",
          "name": "stdout",
          "text": [
            "Requirement already satisfied: huggingface_hub==0.16.4 in /usr/local/lib/python3.10/dist-packages (0.16.4)\n",
            "Requirement already satisfied: filelock in /usr/local/lib/python3.10/dist-packages (from huggingface_hub==0.16.4) (3.13.1)\n",
            "Requirement already satisfied: fsspec in /usr/local/lib/python3.10/dist-packages (from huggingface_hub==0.16.4) (2023.6.0)\n",
            "Requirement already satisfied: requests in /usr/local/lib/python3.10/dist-packages (from huggingface_hub==0.16.4) (2.31.0)\n",
            "Requirement already satisfied: tqdm>=4.42.1 in /usr/local/lib/python3.10/dist-packages (from huggingface_hub==0.16.4) (4.66.1)\n",
            "Requirement already satisfied: pyyaml>=5.1 in /usr/local/lib/python3.10/dist-packages (from huggingface_hub==0.16.4) (6.0.1)\n",
            "Requirement already satisfied: typing-extensions>=3.7.4.3 in /usr/local/lib/python3.10/dist-packages (from huggingface_hub==0.16.4) (4.5.0)\n",
            "Requirement already satisfied: packaging>=20.9 in /usr/local/lib/python3.10/dist-packages (from huggingface_hub==0.16.4) (23.2)\n",
            "Requirement already satisfied: charset-normalizer<4,>=2 in /usr/local/lib/python3.10/dist-packages (from requests->huggingface_hub==0.16.4) (3.3.2)\n",
            "Requirement already satisfied: idna<4,>=2.5 in /usr/local/lib/python3.10/dist-packages (from requests->huggingface_hub==0.16.4) (3.6)\n",
            "Requirement already satisfied: urllib3<3,>=1.21.1 in /usr/local/lib/python3.10/dist-packages (from requests->huggingface_hub==0.16.4) (2.0.7)\n",
            "Requirement already satisfied: certifi>=2017.4.17 in /usr/local/lib/python3.10/dist-packages (from requests->huggingface_hub==0.16.4) (2023.11.17)\n"
          ]
        }
      ],
      "source": [
        "!pip install huggingface_hub==0.16.4"
      ]
    },
    {
      "cell_type": "code",
      "execution_count": 23,
      "metadata": {
        "id": "0YhMwPvqmmwE"
      },
      "outputs": [],
      "source": [
        "from huggingface_hub import notebook_login\n",
        "import torch"
      ]
    },
    {
      "cell_type": "code",
      "execution_count": 24,
      "metadata": {
        "colab": {
          "base_uri": "https://localhost:8080/",
          "height": 145,
          "referenced_widgets": [
            "691a8f9e7e134f23903e129a72002b28",
            "6f21b2a3025643328e7e59b64e30eae6",
            "ea6ff8558f10479aa6c01699aaab57b3",
            "bf3b12cec3a14caa9e561f5f748c018d",
            "f97028145ace45b89c7c19d2e4524eb3",
            "0ee17f4cb72a49d88108c65f568f83a3",
            "790dffa5bf5f4940a4b52672a4b45d62",
            "30bb272ef60b4712ae85da6ec14b4110",
            "b1b02b15ebab4171a060f5bc7403d49c",
            "f48f4ba07a404ffcb918659eacebc6d8",
            "2963c961c812415bbfcc3520a90da669",
            "e931a55a31714c0c9091c1acb37990c4",
            "5caf0d69ee474e3d9d99eb88bf43cd6d",
            "d7737af5a8a64aa3b75d1f6c51c54eeb",
            "ab061368e0be4b8b833a60d9111181c2",
            "73edd1d408924009b9f33196cf569713",
            "85c4e21bd74048fc801ec166e6140b74",
            "44f937652f3a457db00c3f27199c66e9",
            "f27df58b786f4ee397b4381e15ac73b8",
            "9facb605d9cd4a78891c0fdf2fc0d60d",
            "556c11d669c64c61b67c5783b8d64da9",
            "ac0c27743a544dc08465e574d31a9e3f",
            "294eae3ac39741c3a38bdee7563f7cf6",
            "ba38b9ab81ec467cb6076843bc37390e",
            "8897dc313f3046fdb0feac6e107b1221",
            "f209c7005c334a47b7cb9601087e09e7",
            "3ad43b96537044e0b3b97a9e4ca6bf12",
            "b8d96ab535bb422e9483f40eafa4a63c",
            "65a0cadc25b74f749269f665cba3a39b",
            "47922ecbce99473abf0c11310476ec3c",
            "88cc56cc3d0946398d41a9c41ca3977f",
            "e214548de06c468c9e5f68b374d88163"
          ]
        },
        "id": "4Tp1XbFrmsrL",
        "outputId": "4f1b2f00-69bb-45de-d649-294f8099a1c1"
      },
      "outputs": [
        {
          "output_type": "display_data",
          "data": {
            "text/plain": [
              "VBox(children=(HTML(value='<center> <img\\nsrc=https://huggingface.co/front/assets/huggingface_logo-noborder.sv…"
            ],
            "application/vnd.jupyter.widget-view+json": {
              "version_major": 2,
              "version_minor": 0,
              "model_id": "691a8f9e7e134f23903e129a72002b28"
            }
          },
          "metadata": {}
        }
      ],
      "source": [
        "notebook_login()"
      ]
    },
    {
      "cell_type": "code",
      "execution_count": 25,
      "metadata": {
        "colab": {
          "base_uri": "https://localhost:8080/"
        },
        "id": "XWVIevl4nwHq",
        "outputId": "4aa4a384-dd70-49e3-d25b-f62fff3e748f"
      },
      "outputs": [
        {
          "output_type": "stream",
          "name": "stderr",
          "text": [
            "/usr/local/lib/python3.10/dist-packages/transformers/models/auto/tokenization_auto.py:671: FutureWarning: The `use_auth_token` argument is deprecated and will be removed in v5 of Transformers. Please use `token` instead.\n",
            "  warnings.warn(\n"
          ]
        }
      ],
      "source": [
        "tokenizer = AutoTokenizer.from_pretrained(\"meta-llama/Llama-2-7b-chat-hf\", use_auth_token=True)"
      ]
    },
    {
      "cell_type": "code",
      "execution_count": null,
      "metadata": {
        "id": "B25nGhOLZRmr"
      },
      "outputs": [],
      "source": [
        "pip install accelerate bitsandbytes"
      ]
    },
    {
      "cell_type": "code",
      "execution_count": 26,
      "metadata": {
        "colab": {
          "base_uri": "https://localhost:8080/",
          "height": 138,
          "referenced_widgets": [
            "06402b971b5048ad81f94656ec44c185",
            "a65fff11011e4a0a922443a900ce30f3",
            "7068dae393114993bf720fe368fb7ac8",
            "4711b24d9d184c0d9c0e2a47501f0b6f",
            "eb9ca0c6af3e4a349aa3c5cd80b5de5c",
            "abaf61f67b0f44cfaa2a77ca2e1bd679",
            "37723b4c514d417bb4a3d17f8d6fe131",
            "c912b6c759c44ee3a58c0904e053f9fb",
            "ad5ea26e9c3341a9b4eb1adf7f88f163",
            "7abf3fdabb4e4dd0babc62bed7969299",
            "6953d984607b45a0bde979bbaf6ee18c"
          ]
        },
        "id": "lFSi2qwIv8sQ",
        "outputId": "acebeabc-a9ba-4733-ad49-294e8f08f210"
      },
      "outputs": [
        {
          "output_type": "stream",
          "name": "stderr",
          "text": [
            "/usr/local/lib/python3.10/dist-packages/transformers/models/auto/auto_factory.py:472: FutureWarning: The `use_auth_token` argument is deprecated and will be removed in v5 of Transformers. Please use `token` instead.\n",
            "  warnings.warn(\n"
          ]
        },
        {
          "output_type": "display_data",
          "data": {
            "text/plain": [
              "Loading checkpoint shards:   0%|          | 0/2 [00:00<?, ?it/s]"
            ],
            "application/vnd.jupyter.widget-view+json": {
              "version_major": 2,
              "version_minor": 0,
              "model_id": "06402b971b5048ad81f94656ec44c185"
            }
          },
          "metadata": {}
        },
        {
          "output_type": "stream",
          "name": "stderr",
          "text": [
            "/usr/local/lib/python3.10/dist-packages/transformers/utils/hub.py:374: FutureWarning: The `use_auth_token` argument is deprecated and will be removed in v5 of Transformers. Please use `token` instead.\n",
            "  warnings.warn(\n"
          ]
        }
      ],
      "source": [
        "model = AutoModelForCausalLM.from_pretrained(\"meta-llama/Llama-2-7b-chat-hf\",\n",
        "                                             device_map='auto',\n",
        "                                             torch_dtype=torch.float16,\n",
        "                                             use_auth_token=True,\n",
        "\n",
        "                                             )"
      ]
    },
    {
      "cell_type": "code",
      "execution_count": 27,
      "metadata": {
        "id": "_soZ3Axiygr_"
      },
      "outputs": [],
      "source": [
        "pipe = pipeline(\"text-generation\",\n",
        "                model=model,\n",
        "                tokenizer= tokenizer,\n",
        "                torch_dtype=torch.bfloat16,\n",
        "                device_map=\"auto\",\n",
        "                max_new_tokens = 512,\n",
        "                do_sample=True,\n",
        "                top_k=30,\n",
        "                num_return_sequences=1,\n",
        "                eos_token_id=tokenizer.eos_token_id\n",
        "                )\n",
        "\n"
      ]
    },
    {
      "cell_type": "code",
      "execution_count": 28,
      "metadata": {
        "id": "BQkAJPtnyqpX"
      },
      "outputs": [],
      "source": [
        "llm=HuggingFacePipeline(pipeline=pipe, model_kwargs={'temperature':0.1})"
      ]
    },
    {
      "cell_type": "code",
      "execution_count": 29,
      "metadata": {
        "id": "o8Tp3Ny5ytsp"
      },
      "outputs": [],
      "source": [
        "SYSTEM_PROMPT = \"\"\"Use the following pieces of context to answer the question at the end.\n",
        "If you don't know the answer, just say that you don't know, don't try to make up an answer.\"\"\""
      ]
    },
    {
      "cell_type": "code",
      "execution_count": 30,
      "metadata": {
        "id": "Yc_E0Q70y1aQ"
      },
      "outputs": [],
      "source": [
        "B_INST, E_INST = \"[INST]\", \"[/INST]\"\n",
        "B_SYS, E_SYS = \"<>\\n\", \"\\n<>\\n\\n\""
      ]
    },
    {
      "cell_type": "code",
      "execution_count": 31,
      "metadata": {
        "id": "oWpttVYIy6V_"
      },
      "outputs": [],
      "source": [
        "SYSTEM_PROMPT = B_SYS + SYSTEM_PROMPT + E_SYS"
      ]
    },
    {
      "cell_type": "code",
      "execution_count": 32,
      "metadata": {
        "id": "7t2Ath_4y9AP"
      },
      "outputs": [],
      "source": [
        "instruction = \"\"\"\n",
        "{context}\n",
        "\n",
        "Question: {question}\n",
        "\"\"\""
      ]
    },
    {
      "cell_type": "code",
      "execution_count": 33,
      "metadata": {
        "id": "C7NqvsIPzAFI"
      },
      "outputs": [],
      "source": [
        "template = B_INST + SYSTEM_PROMPT + instruction + E_INST"
      ]
    },
    {
      "cell_type": "code",
      "execution_count": 34,
      "metadata": {
        "colab": {
          "base_uri": "https://localhost:8080/",
          "height": 53
        },
        "id": "YYYpddTGzCzI",
        "outputId": "0c6746a8-798c-49a0-ac66-3f1b549c563b"
      },
      "outputs": [
        {
          "output_type": "execute_result",
          "data": {
            "text/plain": [
              "\"[INST]<>\\nUse the following pieces of context to answer the question at the end.\\nIf you don't know the answer, just say that you don't know, don't try to make up an answer.\\n<>\\n\\n\\n{context}\\n\\nQuestion: {question}\\n[/INST]\""
            ],
            "application/vnd.google.colaboratory.intrinsic+json": {
              "type": "string"
            }
          },
          "metadata": {},
          "execution_count": 34
        }
      ],
      "source": [
        "template"
      ]
    },
    {
      "cell_type": "code",
      "execution_count": 35,
      "metadata": {
        "id": "Dy7RNNTkzFo4"
      },
      "outputs": [],
      "source": [
        "prompt = PromptTemplate(template=template, input_variables=[\"context\", \"question\"])"
      ]
    },
    {
      "cell_type": "code",
      "execution_count": 36,
      "metadata": {
        "id": "Bmvl1bOhzIFw"
      },
      "outputs": [],
      "source": [
        "qa_chain = RetrievalQA.from_chain_type(\n",
        "    llm=llm,\n",
        "    chain_type=\"stuff\",\n",
        "    retriever=docsearch.as_retriever(search_kwargs={\"k\": 2}),\n",
        "    return_source_documents=True,\n",
        "    chain_type_kwargs={\"prompt\": prompt},\n",
        ")"
      ]
    },
    {
      "cell_type": "code",
      "execution_count": 37,
      "metadata": {
        "colab": {
          "base_uri": "https://localhost:8080/"
        },
        "id": "Q4bMCkqizKvg",
        "outputId": "da2485bd-d5b4-43e2-88d5-cd5234924e92"
      },
      "outputs": [
        {
          "output_type": "stream",
          "name": "stderr",
          "text": [
            "/usr/local/lib/python3.10/dist-packages/langchain_core/_api/deprecation.py:117: LangChainDeprecationWarning: The function `__call__` was deprecated in LangChain 0.1.0 and will be removed in 0.2.0. Use invoke instead.\n",
            "  warn_deprecated(\n"
          ]
        }
      ],
      "source": [
        "result = qa_chain(\"Best laptop with 8gb Ram\")"
      ]
    },
    {
      "cell_type": "code",
      "execution_count": 38,
      "metadata": {
        "id": "Z4F6PfYx3NT7",
        "colab": {
          "base_uri": "https://localhost:8080/",
          "height": 88
        },
        "outputId": "66942bab-0908-49be-af44-be7f6871a251"
      },
      "outputs": [
        {
          "output_type": "execute_result",
          "data": {
            "text/plain": [
              "'  Based on the information provided, the best laptop with 8GB RAM from the HP 14/15 Notebook series is the HP 15 Notebook series.\\n\\nThe HP 15 Notebook series offers the following specifications:\\n\\n* Processor: Intel® Celeron® N3050 Processor (1.6GHz, up to 2.16GHz, 2MB cache, 2 cores)\\n* System Memory: 2GB DDR3L-1600 SDRAM (1 DIMM); 500GB (5400RPM) hard drive\\n* Display: 14.0/15.6-inch diagonal HD BrightView LED-backlit Display (1366x768)\\n* Operating System: Windows 10 (64-bit)\\n\\nAll of these specifications are available with 8GB RAM, making the HP 15 Notebook series the best option for someone looking for a laptop with 8GB RAM from the HP 14/15 Notebook series.'"
            ],
            "application/vnd.google.colaboratory.intrinsic+json": {
              "type": "string"
            }
          },
          "metadata": {},
          "execution_count": 38
        }
      ],
      "source": [
        "result['result']"
      ]
    },
    {
      "cell_type": "code",
      "execution_count": null,
      "metadata": {
        "id": "5OuZs1ib3SSq",
        "colab": {
          "base_uri": "https://localhost:8080/"
        },
        "outputId": "1489ac25-3796-4ace-8552-ae5e9fa713a5"
      },
      "outputs": [
        {
          "output_type": "stream",
          "name": "stdout",
          "text": [
            "prompt:Best TV to buy now\n",
            "Answer:  Based on the information provided, the best TV to buy now depends on several factors such as budget, screen size, and personal preferences. Here are some recommendations for each of the three TV models mentioned:\n",
            "\n",
            "Sony BRA VIA KD-65X80K: If you have a budget of ₹94,990 or more and are looking for a large screen TV with a high refresh rate, this model might be the best option. It has a 65-inch screen, 4K resolution, and a 50 Hz refresh rate, which is ideal for gaming and fast-paced content.\n",
            "\n",
            "Sony BRA VIA KD-50X80L: If you have a budget of ₹75,990 or more and are looking for a smaller screen size, this model might be the best option. It has a 50-inch screen, 4K resolution, and a 50 Hz refresh rate, which is suitable for gaming and general viewing.\n",
            "\n",
            "Sony BRA VIA KD-77X80K: If you have a budget of ₹94,990 or more and are looking for an even larger screen, this model might be the best option. It has a 77-inch screen, 4K resolution, and a 50 Hz refresh rate, which is ideal for immersive viewing experiences.\n",
            "\n",
            "However, it's important to note that these are just recommendations based on the information provided, and there may be other factors to consider when choosing the best TV for your needs. It's always a good idea to do further research and read reviews before making a purchase.\n",
            "prompt:Give me some VU Tvs\n",
            "Answer:  Based on the provided context, here are some VU TVs:\n",
            "\n",
            "1. VU Premium TV FHD Android11 Smart TV 43GA (108cm)\n",
            "2. VU Premium TV FHD Android11 Smart TV 50GA (127cm)\n",
            "3. VU Premium TV 4K Ultra HD Android11 Smart TV 55GA (139cm)\n",
            "4. VU Premium TV 4K Ultra HD Android11 Smart TV 65GA (158cm)\n",
            "\n",
            "Please note that these are just examples of VU TVs and there may be other models available in the market.\n"
          ]
        }
      ],
      "source": [
        "while True:\n",
        "    user_input=input(f\"prompt:\")\n",
        "    if user_input=='exit':\n",
        "        print('Exiting')\n",
        "        sys.exit()\n",
        "    if user_input=='':\n",
        "        continue\n",
        "    result=qa_chain({'query':user_input})\n",
        "    print(f\"Answer:{result['result']}\")"
      ]
    },
    {
      "cell_type": "code",
      "execution_count": null,
      "metadata": {
        "id": "zK8hwVBuI65-"
      },
      "outputs": [],
      "source": [
        "base_model = AutoModelForCasualLM.from_pretrained(\n",
        "    model_name,\n",
        "    return_dict = True,\n",
        "    torch_dtype = torch.float16,\n",
        "    device_amp = device_map\n",
        ")"
      ]
    },
    {
      "cell_type": "code",
      "execution_count": null,
      "metadata": {
        "id": "9bprLt1HJO72"
      },
      "outputs": [],
      "source": [
        "dtype"
      ]
    }
  ],
  "metadata": {
    "accelerator": "GPU",
    "colab": {
      "provenance": [],
      "gpuType": "T4"
    },
    "kernelspec": {
      "display_name": "Python 3",
      "name": "python3"
    },
    "language_info": {
      "name": "python"
    },
    "widgets": {
      "application/vnd.jupyter.widget-state+json": {
        "691a8f9e7e134f23903e129a72002b28": {
          "model_module": "@jupyter-widgets/controls",
          "model_name": "VBoxModel",
          "model_module_version": "1.5.0",
          "state": {
            "_dom_classes": [],
            "_model_module": "@jupyter-widgets/controls",
            "_model_module_version": "1.5.0",
            "_model_name": "VBoxModel",
            "_view_count": null,
            "_view_module": "@jupyter-widgets/controls",
            "_view_module_version": "1.5.0",
            "_view_name": "VBoxView",
            "box_style": "",
            "children": [
              "IPY_MODEL_556c11d669c64c61b67c5783b8d64da9",
              "IPY_MODEL_ac0c27743a544dc08465e574d31a9e3f",
              "IPY_MODEL_294eae3ac39741c3a38bdee7563f7cf6",
              "IPY_MODEL_ba38b9ab81ec467cb6076843bc37390e"
            ],
            "layout": "IPY_MODEL_790dffa5bf5f4940a4b52672a4b45d62"
          }
        },
        "6f21b2a3025643328e7e59b64e30eae6": {
          "model_module": "@jupyter-widgets/controls",
          "model_name": "HTMLModel",
          "model_module_version": "1.5.0",
          "state": {
            "_dom_classes": [],
            "_model_module": "@jupyter-widgets/controls",
            "_model_module_version": "1.5.0",
            "_model_name": "HTMLModel",
            "_view_count": null,
            "_view_module": "@jupyter-widgets/controls",
            "_view_module_version": "1.5.0",
            "_view_name": "HTMLView",
            "description": "",
            "description_tooltip": null,
            "layout": "IPY_MODEL_30bb272ef60b4712ae85da6ec14b4110",
            "placeholder": "​",
            "style": "IPY_MODEL_b1b02b15ebab4171a060f5bc7403d49c",
            "value": "<center> <img\nsrc=https://huggingface.co/front/assets/huggingface_logo-noborder.svg\nalt='Hugging Face'> <br> Copy a token from <a\nhref=\"https://huggingface.co/settings/tokens\" target=\"_blank\">your Hugging Face\ntokens page</a> and paste it below. <br> Immediately click login after copying\nyour token or it might be stored in plain text in this notebook file. </center>"
          }
        },
        "ea6ff8558f10479aa6c01699aaab57b3": {
          "model_module": "@jupyter-widgets/controls",
          "model_name": "PasswordModel",
          "model_module_version": "1.5.0",
          "state": {
            "_dom_classes": [],
            "_model_module": "@jupyter-widgets/controls",
            "_model_module_version": "1.5.0",
            "_model_name": "PasswordModel",
            "_view_count": null,
            "_view_module": "@jupyter-widgets/controls",
            "_view_module_version": "1.5.0",
            "_view_name": "PasswordView",
            "continuous_update": true,
            "description": "Token:",
            "description_tooltip": null,
            "disabled": false,
            "layout": "IPY_MODEL_f48f4ba07a404ffcb918659eacebc6d8",
            "placeholder": "​",
            "style": "IPY_MODEL_2963c961c812415bbfcc3520a90da669",
            "value": ""
          }
        },
        "bf3b12cec3a14caa9e561f5f748c018d": {
          "model_module": "@jupyter-widgets/controls",
          "model_name": "CheckboxModel",
          "model_module_version": "1.5.0",
          "state": {
            "_dom_classes": [],
            "_model_module": "@jupyter-widgets/controls",
            "_model_module_version": "1.5.0",
            "_model_name": "CheckboxModel",
            "_view_count": null,
            "_view_module": "@jupyter-widgets/controls",
            "_view_module_version": "1.5.0",
            "_view_name": "CheckboxView",
            "description": "Add token as git credential?",
            "description_tooltip": null,
            "disabled": false,
            "indent": true,
            "layout": "IPY_MODEL_e931a55a31714c0c9091c1acb37990c4",
            "style": "IPY_MODEL_5caf0d69ee474e3d9d99eb88bf43cd6d",
            "value": true
          }
        },
        "f97028145ace45b89c7c19d2e4524eb3": {
          "model_module": "@jupyter-widgets/controls",
          "model_name": "ButtonModel",
          "model_module_version": "1.5.0",
          "state": {
            "_dom_classes": [],
            "_model_module": "@jupyter-widgets/controls",
            "_model_module_version": "1.5.0",
            "_model_name": "ButtonModel",
            "_view_count": null,
            "_view_module": "@jupyter-widgets/controls",
            "_view_module_version": "1.5.0",
            "_view_name": "ButtonView",
            "button_style": "",
            "description": "Login",
            "disabled": false,
            "icon": "",
            "layout": "IPY_MODEL_d7737af5a8a64aa3b75d1f6c51c54eeb",
            "style": "IPY_MODEL_ab061368e0be4b8b833a60d9111181c2",
            "tooltip": ""
          }
        },
        "0ee17f4cb72a49d88108c65f568f83a3": {
          "model_module": "@jupyter-widgets/controls",
          "model_name": "HTMLModel",
          "model_module_version": "1.5.0",
          "state": {
            "_dom_classes": [],
            "_model_module": "@jupyter-widgets/controls",
            "_model_module_version": "1.5.0",
            "_model_name": "HTMLModel",
            "_view_count": null,
            "_view_module": "@jupyter-widgets/controls",
            "_view_module_version": "1.5.0",
            "_view_name": "HTMLView",
            "description": "",
            "description_tooltip": null,
            "layout": "IPY_MODEL_73edd1d408924009b9f33196cf569713",
            "placeholder": "​",
            "style": "IPY_MODEL_85c4e21bd74048fc801ec166e6140b74",
            "value": "\n<b>Pro Tip:</b> If you don't already have one, you can create a dedicated\n'notebooks' token with 'write' access, that you can then easily reuse for all\nnotebooks. </center>"
          }
        },
        "790dffa5bf5f4940a4b52672a4b45d62": {
          "model_module": "@jupyter-widgets/base",
          "model_name": "LayoutModel",
          "model_module_version": "1.2.0",
          "state": {
            "_model_module": "@jupyter-widgets/base",
            "_model_module_version": "1.2.0",
            "_model_name": "LayoutModel",
            "_view_count": null,
            "_view_module": "@jupyter-widgets/base",
            "_view_module_version": "1.2.0",
            "_view_name": "LayoutView",
            "align_content": null,
            "align_items": "center",
            "align_self": null,
            "border": null,
            "bottom": null,
            "display": "flex",
            "flex": null,
            "flex_flow": "column",
            "grid_area": null,
            "grid_auto_columns": null,
            "grid_auto_flow": null,
            "grid_auto_rows": null,
            "grid_column": null,
            "grid_gap": null,
            "grid_row": null,
            "grid_template_areas": null,
            "grid_template_columns": null,
            "grid_template_rows": null,
            "height": null,
            "justify_content": null,
            "justify_items": null,
            "left": null,
            "margin": null,
            "max_height": null,
            "max_width": null,
            "min_height": null,
            "min_width": null,
            "object_fit": null,
            "object_position": null,
            "order": null,
            "overflow": null,
            "overflow_x": null,
            "overflow_y": null,
            "padding": null,
            "right": null,
            "top": null,
            "visibility": null,
            "width": "50%"
          }
        },
        "30bb272ef60b4712ae85da6ec14b4110": {
          "model_module": "@jupyter-widgets/base",
          "model_name": "LayoutModel",
          "model_module_version": "1.2.0",
          "state": {
            "_model_module": "@jupyter-widgets/base",
            "_model_module_version": "1.2.0",
            "_model_name": "LayoutModel",
            "_view_count": null,
            "_view_module": "@jupyter-widgets/base",
            "_view_module_version": "1.2.0",
            "_view_name": "LayoutView",
            "align_content": null,
            "align_items": null,
            "align_self": null,
            "border": null,
            "bottom": null,
            "display": null,
            "flex": null,
            "flex_flow": null,
            "grid_area": null,
            "grid_auto_columns": null,
            "grid_auto_flow": null,
            "grid_auto_rows": null,
            "grid_column": null,
            "grid_gap": null,
            "grid_row": null,
            "grid_template_areas": null,
            "grid_template_columns": null,
            "grid_template_rows": null,
            "height": null,
            "justify_content": null,
            "justify_items": null,
            "left": null,
            "margin": null,
            "max_height": null,
            "max_width": null,
            "min_height": null,
            "min_width": null,
            "object_fit": null,
            "object_position": null,
            "order": null,
            "overflow": null,
            "overflow_x": null,
            "overflow_y": null,
            "padding": null,
            "right": null,
            "top": null,
            "visibility": null,
            "width": null
          }
        },
        "b1b02b15ebab4171a060f5bc7403d49c": {
          "model_module": "@jupyter-widgets/controls",
          "model_name": "DescriptionStyleModel",
          "model_module_version": "1.5.0",
          "state": {
            "_model_module": "@jupyter-widgets/controls",
            "_model_module_version": "1.5.0",
            "_model_name": "DescriptionStyleModel",
            "_view_count": null,
            "_view_module": "@jupyter-widgets/base",
            "_view_module_version": "1.2.0",
            "_view_name": "StyleView",
            "description_width": ""
          }
        },
        "f48f4ba07a404ffcb918659eacebc6d8": {
          "model_module": "@jupyter-widgets/base",
          "model_name": "LayoutModel",
          "model_module_version": "1.2.0",
          "state": {
            "_model_module": "@jupyter-widgets/base",
            "_model_module_version": "1.2.0",
            "_model_name": "LayoutModel",
            "_view_count": null,
            "_view_module": "@jupyter-widgets/base",
            "_view_module_version": "1.2.0",
            "_view_name": "LayoutView",
            "align_content": null,
            "align_items": null,
            "align_self": null,
            "border": null,
            "bottom": null,
            "display": null,
            "flex": null,
            "flex_flow": null,
            "grid_area": null,
            "grid_auto_columns": null,
            "grid_auto_flow": null,
            "grid_auto_rows": null,
            "grid_column": null,
            "grid_gap": null,
            "grid_row": null,
            "grid_template_areas": null,
            "grid_template_columns": null,
            "grid_template_rows": null,
            "height": null,
            "justify_content": null,
            "justify_items": null,
            "left": null,
            "margin": null,
            "max_height": null,
            "max_width": null,
            "min_height": null,
            "min_width": null,
            "object_fit": null,
            "object_position": null,
            "order": null,
            "overflow": null,
            "overflow_x": null,
            "overflow_y": null,
            "padding": null,
            "right": null,
            "top": null,
            "visibility": null,
            "width": null
          }
        },
        "2963c961c812415bbfcc3520a90da669": {
          "model_module": "@jupyter-widgets/controls",
          "model_name": "DescriptionStyleModel",
          "model_module_version": "1.5.0",
          "state": {
            "_model_module": "@jupyter-widgets/controls",
            "_model_module_version": "1.5.0",
            "_model_name": "DescriptionStyleModel",
            "_view_count": null,
            "_view_module": "@jupyter-widgets/base",
            "_view_module_version": "1.2.0",
            "_view_name": "StyleView",
            "description_width": ""
          }
        },
        "e931a55a31714c0c9091c1acb37990c4": {
          "model_module": "@jupyter-widgets/base",
          "model_name": "LayoutModel",
          "model_module_version": "1.2.0",
          "state": {
            "_model_module": "@jupyter-widgets/base",
            "_model_module_version": "1.2.0",
            "_model_name": "LayoutModel",
            "_view_count": null,
            "_view_module": "@jupyter-widgets/base",
            "_view_module_version": "1.2.0",
            "_view_name": "LayoutView",
            "align_content": null,
            "align_items": null,
            "align_self": null,
            "border": null,
            "bottom": null,
            "display": null,
            "flex": null,
            "flex_flow": null,
            "grid_area": null,
            "grid_auto_columns": null,
            "grid_auto_flow": null,
            "grid_auto_rows": null,
            "grid_column": null,
            "grid_gap": null,
            "grid_row": null,
            "grid_template_areas": null,
            "grid_template_columns": null,
            "grid_template_rows": null,
            "height": null,
            "justify_content": null,
            "justify_items": null,
            "left": null,
            "margin": null,
            "max_height": null,
            "max_width": null,
            "min_height": null,
            "min_width": null,
            "object_fit": null,
            "object_position": null,
            "order": null,
            "overflow": null,
            "overflow_x": null,
            "overflow_y": null,
            "padding": null,
            "right": null,
            "top": null,
            "visibility": null,
            "width": null
          }
        },
        "5caf0d69ee474e3d9d99eb88bf43cd6d": {
          "model_module": "@jupyter-widgets/controls",
          "model_name": "DescriptionStyleModel",
          "model_module_version": "1.5.0",
          "state": {
            "_model_module": "@jupyter-widgets/controls",
            "_model_module_version": "1.5.0",
            "_model_name": "DescriptionStyleModel",
            "_view_count": null,
            "_view_module": "@jupyter-widgets/base",
            "_view_module_version": "1.2.0",
            "_view_name": "StyleView",
            "description_width": ""
          }
        },
        "d7737af5a8a64aa3b75d1f6c51c54eeb": {
          "model_module": "@jupyter-widgets/base",
          "model_name": "LayoutModel",
          "model_module_version": "1.2.0",
          "state": {
            "_model_module": "@jupyter-widgets/base",
            "_model_module_version": "1.2.0",
            "_model_name": "LayoutModel",
            "_view_count": null,
            "_view_module": "@jupyter-widgets/base",
            "_view_module_version": "1.2.0",
            "_view_name": "LayoutView",
            "align_content": null,
            "align_items": null,
            "align_self": null,
            "border": null,
            "bottom": null,
            "display": null,
            "flex": null,
            "flex_flow": null,
            "grid_area": null,
            "grid_auto_columns": null,
            "grid_auto_flow": null,
            "grid_auto_rows": null,
            "grid_column": null,
            "grid_gap": null,
            "grid_row": null,
            "grid_template_areas": null,
            "grid_template_columns": null,
            "grid_template_rows": null,
            "height": null,
            "justify_content": null,
            "justify_items": null,
            "left": null,
            "margin": null,
            "max_height": null,
            "max_width": null,
            "min_height": null,
            "min_width": null,
            "object_fit": null,
            "object_position": null,
            "order": null,
            "overflow": null,
            "overflow_x": null,
            "overflow_y": null,
            "padding": null,
            "right": null,
            "top": null,
            "visibility": null,
            "width": null
          }
        },
        "ab061368e0be4b8b833a60d9111181c2": {
          "model_module": "@jupyter-widgets/controls",
          "model_name": "ButtonStyleModel",
          "model_module_version": "1.5.0",
          "state": {
            "_model_module": "@jupyter-widgets/controls",
            "_model_module_version": "1.5.0",
            "_model_name": "ButtonStyleModel",
            "_view_count": null,
            "_view_module": "@jupyter-widgets/base",
            "_view_module_version": "1.2.0",
            "_view_name": "StyleView",
            "button_color": null,
            "font_weight": ""
          }
        },
        "73edd1d408924009b9f33196cf569713": {
          "model_module": "@jupyter-widgets/base",
          "model_name": "LayoutModel",
          "model_module_version": "1.2.0",
          "state": {
            "_model_module": "@jupyter-widgets/base",
            "_model_module_version": "1.2.0",
            "_model_name": "LayoutModel",
            "_view_count": null,
            "_view_module": "@jupyter-widgets/base",
            "_view_module_version": "1.2.0",
            "_view_name": "LayoutView",
            "align_content": null,
            "align_items": null,
            "align_self": null,
            "border": null,
            "bottom": null,
            "display": null,
            "flex": null,
            "flex_flow": null,
            "grid_area": null,
            "grid_auto_columns": null,
            "grid_auto_flow": null,
            "grid_auto_rows": null,
            "grid_column": null,
            "grid_gap": null,
            "grid_row": null,
            "grid_template_areas": null,
            "grid_template_columns": null,
            "grid_template_rows": null,
            "height": null,
            "justify_content": null,
            "justify_items": null,
            "left": null,
            "margin": null,
            "max_height": null,
            "max_width": null,
            "min_height": null,
            "min_width": null,
            "object_fit": null,
            "object_position": null,
            "order": null,
            "overflow": null,
            "overflow_x": null,
            "overflow_y": null,
            "padding": null,
            "right": null,
            "top": null,
            "visibility": null,
            "width": null
          }
        },
        "85c4e21bd74048fc801ec166e6140b74": {
          "model_module": "@jupyter-widgets/controls",
          "model_name": "DescriptionStyleModel",
          "model_module_version": "1.5.0",
          "state": {
            "_model_module": "@jupyter-widgets/controls",
            "_model_module_version": "1.5.0",
            "_model_name": "DescriptionStyleModel",
            "_view_count": null,
            "_view_module": "@jupyter-widgets/base",
            "_view_module_version": "1.2.0",
            "_view_name": "StyleView",
            "description_width": ""
          }
        },
        "44f937652f3a457db00c3f27199c66e9": {
          "model_module": "@jupyter-widgets/controls",
          "model_name": "LabelModel",
          "model_module_version": "1.5.0",
          "state": {
            "_dom_classes": [],
            "_model_module": "@jupyter-widgets/controls",
            "_model_module_version": "1.5.0",
            "_model_name": "LabelModel",
            "_view_count": null,
            "_view_module": "@jupyter-widgets/controls",
            "_view_module_version": "1.5.0",
            "_view_name": "LabelView",
            "description": "",
            "description_tooltip": null,
            "layout": "IPY_MODEL_f27df58b786f4ee397b4381e15ac73b8",
            "placeholder": "​",
            "style": "IPY_MODEL_9facb605d9cd4a78891c0fdf2fc0d60d",
            "value": "Connecting..."
          }
        },
        "f27df58b786f4ee397b4381e15ac73b8": {
          "model_module": "@jupyter-widgets/base",
          "model_name": "LayoutModel",
          "model_module_version": "1.2.0",
          "state": {
            "_model_module": "@jupyter-widgets/base",
            "_model_module_version": "1.2.0",
            "_model_name": "LayoutModel",
            "_view_count": null,
            "_view_module": "@jupyter-widgets/base",
            "_view_module_version": "1.2.0",
            "_view_name": "LayoutView",
            "align_content": null,
            "align_items": null,
            "align_self": null,
            "border": null,
            "bottom": null,
            "display": null,
            "flex": null,
            "flex_flow": null,
            "grid_area": null,
            "grid_auto_columns": null,
            "grid_auto_flow": null,
            "grid_auto_rows": null,
            "grid_column": null,
            "grid_gap": null,
            "grid_row": null,
            "grid_template_areas": null,
            "grid_template_columns": null,
            "grid_template_rows": null,
            "height": null,
            "justify_content": null,
            "justify_items": null,
            "left": null,
            "margin": null,
            "max_height": null,
            "max_width": null,
            "min_height": null,
            "min_width": null,
            "object_fit": null,
            "object_position": null,
            "order": null,
            "overflow": null,
            "overflow_x": null,
            "overflow_y": null,
            "padding": null,
            "right": null,
            "top": null,
            "visibility": null,
            "width": null
          }
        },
        "9facb605d9cd4a78891c0fdf2fc0d60d": {
          "model_module": "@jupyter-widgets/controls",
          "model_name": "DescriptionStyleModel",
          "model_module_version": "1.5.0",
          "state": {
            "_model_module": "@jupyter-widgets/controls",
            "_model_module_version": "1.5.0",
            "_model_name": "DescriptionStyleModel",
            "_view_count": null,
            "_view_module": "@jupyter-widgets/base",
            "_view_module_version": "1.2.0",
            "_view_name": "StyleView",
            "description_width": ""
          }
        },
        "556c11d669c64c61b67c5783b8d64da9": {
          "model_module": "@jupyter-widgets/controls",
          "model_name": "LabelModel",
          "model_module_version": "1.5.0",
          "state": {
            "_dom_classes": [],
            "_model_module": "@jupyter-widgets/controls",
            "_model_module_version": "1.5.0",
            "_model_name": "LabelModel",
            "_view_count": null,
            "_view_module": "@jupyter-widgets/controls",
            "_view_module_version": "1.5.0",
            "_view_name": "LabelView",
            "description": "",
            "description_tooltip": null,
            "layout": "IPY_MODEL_8897dc313f3046fdb0feac6e107b1221",
            "placeholder": "​",
            "style": "IPY_MODEL_f209c7005c334a47b7cb9601087e09e7",
            "value": "Token is valid (permission: read)."
          }
        },
        "ac0c27743a544dc08465e574d31a9e3f": {
          "model_module": "@jupyter-widgets/controls",
          "model_name": "LabelModel",
          "model_module_version": "1.5.0",
          "state": {
            "_dom_classes": [],
            "_model_module": "@jupyter-widgets/controls",
            "_model_module_version": "1.5.0",
            "_model_name": "LabelModel",
            "_view_count": null,
            "_view_module": "@jupyter-widgets/controls",
            "_view_module_version": "1.5.0",
            "_view_name": "LabelView",
            "description": "",
            "description_tooltip": null,
            "layout": "IPY_MODEL_3ad43b96537044e0b3b97a9e4ca6bf12",
            "placeholder": "​",
            "style": "IPY_MODEL_b8d96ab535bb422e9483f40eafa4a63c",
            "value": "Your token has been saved in your configured git credential helpers (store)."
          }
        },
        "294eae3ac39741c3a38bdee7563f7cf6": {
          "model_module": "@jupyter-widgets/controls",
          "model_name": "LabelModel",
          "model_module_version": "1.5.0",
          "state": {
            "_dom_classes": [],
            "_model_module": "@jupyter-widgets/controls",
            "_model_module_version": "1.5.0",
            "_model_name": "LabelModel",
            "_view_count": null,
            "_view_module": "@jupyter-widgets/controls",
            "_view_module_version": "1.5.0",
            "_view_name": "LabelView",
            "description": "",
            "description_tooltip": null,
            "layout": "IPY_MODEL_65a0cadc25b74f749269f665cba3a39b",
            "placeholder": "​",
            "style": "IPY_MODEL_47922ecbce99473abf0c11310476ec3c",
            "value": "Your token has been saved to /root/.cache/huggingface/token"
          }
        },
        "ba38b9ab81ec467cb6076843bc37390e": {
          "model_module": "@jupyter-widgets/controls",
          "model_name": "LabelModel",
          "model_module_version": "1.5.0",
          "state": {
            "_dom_classes": [],
            "_model_module": "@jupyter-widgets/controls",
            "_model_module_version": "1.5.0",
            "_model_name": "LabelModel",
            "_view_count": null,
            "_view_module": "@jupyter-widgets/controls",
            "_view_module_version": "1.5.0",
            "_view_name": "LabelView",
            "description": "",
            "description_tooltip": null,
            "layout": "IPY_MODEL_88cc56cc3d0946398d41a9c41ca3977f",
            "placeholder": "​",
            "style": "IPY_MODEL_e214548de06c468c9e5f68b374d88163",
            "value": "Login successful"
          }
        },
        "8897dc313f3046fdb0feac6e107b1221": {
          "model_module": "@jupyter-widgets/base",
          "model_name": "LayoutModel",
          "model_module_version": "1.2.0",
          "state": {
            "_model_module": "@jupyter-widgets/base",
            "_model_module_version": "1.2.0",
            "_model_name": "LayoutModel",
            "_view_count": null,
            "_view_module": "@jupyter-widgets/base",
            "_view_module_version": "1.2.0",
            "_view_name": "LayoutView",
            "align_content": null,
            "align_items": null,
            "align_self": null,
            "border": null,
            "bottom": null,
            "display": null,
            "flex": null,
            "flex_flow": null,
            "grid_area": null,
            "grid_auto_columns": null,
            "grid_auto_flow": null,
            "grid_auto_rows": null,
            "grid_column": null,
            "grid_gap": null,
            "grid_row": null,
            "grid_template_areas": null,
            "grid_template_columns": null,
            "grid_template_rows": null,
            "height": null,
            "justify_content": null,
            "justify_items": null,
            "left": null,
            "margin": null,
            "max_height": null,
            "max_width": null,
            "min_height": null,
            "min_width": null,
            "object_fit": null,
            "object_position": null,
            "order": null,
            "overflow": null,
            "overflow_x": null,
            "overflow_y": null,
            "padding": null,
            "right": null,
            "top": null,
            "visibility": null,
            "width": null
          }
        },
        "f209c7005c334a47b7cb9601087e09e7": {
          "model_module": "@jupyter-widgets/controls",
          "model_name": "DescriptionStyleModel",
          "model_module_version": "1.5.0",
          "state": {
            "_model_module": "@jupyter-widgets/controls",
            "_model_module_version": "1.5.0",
            "_model_name": "DescriptionStyleModel",
            "_view_count": null,
            "_view_module": "@jupyter-widgets/base",
            "_view_module_version": "1.2.0",
            "_view_name": "StyleView",
            "description_width": ""
          }
        },
        "3ad43b96537044e0b3b97a9e4ca6bf12": {
          "model_module": "@jupyter-widgets/base",
          "model_name": "LayoutModel",
          "model_module_version": "1.2.0",
          "state": {
            "_model_module": "@jupyter-widgets/base",
            "_model_module_version": "1.2.0",
            "_model_name": "LayoutModel",
            "_view_count": null,
            "_view_module": "@jupyter-widgets/base",
            "_view_module_version": "1.2.0",
            "_view_name": "LayoutView",
            "align_content": null,
            "align_items": null,
            "align_self": null,
            "border": null,
            "bottom": null,
            "display": null,
            "flex": null,
            "flex_flow": null,
            "grid_area": null,
            "grid_auto_columns": null,
            "grid_auto_flow": null,
            "grid_auto_rows": null,
            "grid_column": null,
            "grid_gap": null,
            "grid_row": null,
            "grid_template_areas": null,
            "grid_template_columns": null,
            "grid_template_rows": null,
            "height": null,
            "justify_content": null,
            "justify_items": null,
            "left": null,
            "margin": null,
            "max_height": null,
            "max_width": null,
            "min_height": null,
            "min_width": null,
            "object_fit": null,
            "object_position": null,
            "order": null,
            "overflow": null,
            "overflow_x": null,
            "overflow_y": null,
            "padding": null,
            "right": null,
            "top": null,
            "visibility": null,
            "width": null
          }
        },
        "b8d96ab535bb422e9483f40eafa4a63c": {
          "model_module": "@jupyter-widgets/controls",
          "model_name": "DescriptionStyleModel",
          "model_module_version": "1.5.0",
          "state": {
            "_model_module": "@jupyter-widgets/controls",
            "_model_module_version": "1.5.0",
            "_model_name": "DescriptionStyleModel",
            "_view_count": null,
            "_view_module": "@jupyter-widgets/base",
            "_view_module_version": "1.2.0",
            "_view_name": "StyleView",
            "description_width": ""
          }
        },
        "65a0cadc25b74f749269f665cba3a39b": {
          "model_module": "@jupyter-widgets/base",
          "model_name": "LayoutModel",
          "model_module_version": "1.2.0",
          "state": {
            "_model_module": "@jupyter-widgets/base",
            "_model_module_version": "1.2.0",
            "_model_name": "LayoutModel",
            "_view_count": null,
            "_view_module": "@jupyter-widgets/base",
            "_view_module_version": "1.2.0",
            "_view_name": "LayoutView",
            "align_content": null,
            "align_items": null,
            "align_self": null,
            "border": null,
            "bottom": null,
            "display": null,
            "flex": null,
            "flex_flow": null,
            "grid_area": null,
            "grid_auto_columns": null,
            "grid_auto_flow": null,
            "grid_auto_rows": null,
            "grid_column": null,
            "grid_gap": null,
            "grid_row": null,
            "grid_template_areas": null,
            "grid_template_columns": null,
            "grid_template_rows": null,
            "height": null,
            "justify_content": null,
            "justify_items": null,
            "left": null,
            "margin": null,
            "max_height": null,
            "max_width": null,
            "min_height": null,
            "min_width": null,
            "object_fit": null,
            "object_position": null,
            "order": null,
            "overflow": null,
            "overflow_x": null,
            "overflow_y": null,
            "padding": null,
            "right": null,
            "top": null,
            "visibility": null,
            "width": null
          }
        },
        "47922ecbce99473abf0c11310476ec3c": {
          "model_module": "@jupyter-widgets/controls",
          "model_name": "DescriptionStyleModel",
          "model_module_version": "1.5.0",
          "state": {
            "_model_module": "@jupyter-widgets/controls",
            "_model_module_version": "1.5.0",
            "_model_name": "DescriptionStyleModel",
            "_view_count": null,
            "_view_module": "@jupyter-widgets/base",
            "_view_module_version": "1.2.0",
            "_view_name": "StyleView",
            "description_width": ""
          }
        },
        "88cc56cc3d0946398d41a9c41ca3977f": {
          "model_module": "@jupyter-widgets/base",
          "model_name": "LayoutModel",
          "model_module_version": "1.2.0",
          "state": {
            "_model_module": "@jupyter-widgets/base",
            "_model_module_version": "1.2.0",
            "_model_name": "LayoutModel",
            "_view_count": null,
            "_view_module": "@jupyter-widgets/base",
            "_view_module_version": "1.2.0",
            "_view_name": "LayoutView",
            "align_content": null,
            "align_items": null,
            "align_self": null,
            "border": null,
            "bottom": null,
            "display": null,
            "flex": null,
            "flex_flow": null,
            "grid_area": null,
            "grid_auto_columns": null,
            "grid_auto_flow": null,
            "grid_auto_rows": null,
            "grid_column": null,
            "grid_gap": null,
            "grid_row": null,
            "grid_template_areas": null,
            "grid_template_columns": null,
            "grid_template_rows": null,
            "height": null,
            "justify_content": null,
            "justify_items": null,
            "left": null,
            "margin": null,
            "max_height": null,
            "max_width": null,
            "min_height": null,
            "min_width": null,
            "object_fit": null,
            "object_position": null,
            "order": null,
            "overflow": null,
            "overflow_x": null,
            "overflow_y": null,
            "padding": null,
            "right": null,
            "top": null,
            "visibility": null,
            "width": null
          }
        },
        "e214548de06c468c9e5f68b374d88163": {
          "model_module": "@jupyter-widgets/controls",
          "model_name": "DescriptionStyleModel",
          "model_module_version": "1.5.0",
          "state": {
            "_model_module": "@jupyter-widgets/controls",
            "_model_module_version": "1.5.0",
            "_model_name": "DescriptionStyleModel",
            "_view_count": null,
            "_view_module": "@jupyter-widgets/base",
            "_view_module_version": "1.2.0",
            "_view_name": "StyleView",
            "description_width": ""
          }
        },
        "06402b971b5048ad81f94656ec44c185": {
          "model_module": "@jupyter-widgets/controls",
          "model_name": "HBoxModel",
          "model_module_version": "1.5.0",
          "state": {
            "_dom_classes": [],
            "_model_module": "@jupyter-widgets/controls",
            "_model_module_version": "1.5.0",
            "_model_name": "HBoxModel",
            "_view_count": null,
            "_view_module": "@jupyter-widgets/controls",
            "_view_module_version": "1.5.0",
            "_view_name": "HBoxView",
            "box_style": "",
            "children": [
              "IPY_MODEL_a65fff11011e4a0a922443a900ce30f3",
              "IPY_MODEL_7068dae393114993bf720fe368fb7ac8",
              "IPY_MODEL_4711b24d9d184c0d9c0e2a47501f0b6f"
            ],
            "layout": "IPY_MODEL_eb9ca0c6af3e4a349aa3c5cd80b5de5c"
          }
        },
        "a65fff11011e4a0a922443a900ce30f3": {
          "model_module": "@jupyter-widgets/controls",
          "model_name": "HTMLModel",
          "model_module_version": "1.5.0",
          "state": {
            "_dom_classes": [],
            "_model_module": "@jupyter-widgets/controls",
            "_model_module_version": "1.5.0",
            "_model_name": "HTMLModel",
            "_view_count": null,
            "_view_module": "@jupyter-widgets/controls",
            "_view_module_version": "1.5.0",
            "_view_name": "HTMLView",
            "description": "",
            "description_tooltip": null,
            "layout": "IPY_MODEL_abaf61f67b0f44cfaa2a77ca2e1bd679",
            "placeholder": "​",
            "style": "IPY_MODEL_37723b4c514d417bb4a3d17f8d6fe131",
            "value": "Loading checkpoint shards: 100%"
          }
        },
        "7068dae393114993bf720fe368fb7ac8": {
          "model_module": "@jupyter-widgets/controls",
          "model_name": "FloatProgressModel",
          "model_module_version": "1.5.0",
          "state": {
            "_dom_classes": [],
            "_model_module": "@jupyter-widgets/controls",
            "_model_module_version": "1.5.0",
            "_model_name": "FloatProgressModel",
            "_view_count": null,
            "_view_module": "@jupyter-widgets/controls",
            "_view_module_version": "1.5.0",
            "_view_name": "ProgressView",
            "bar_style": "success",
            "description": "",
            "description_tooltip": null,
            "layout": "IPY_MODEL_c912b6c759c44ee3a58c0904e053f9fb",
            "max": 2,
            "min": 0,
            "orientation": "horizontal",
            "style": "IPY_MODEL_ad5ea26e9c3341a9b4eb1adf7f88f163",
            "value": 2
          }
        },
        "4711b24d9d184c0d9c0e2a47501f0b6f": {
          "model_module": "@jupyter-widgets/controls",
          "model_name": "HTMLModel",
          "model_module_version": "1.5.0",
          "state": {
            "_dom_classes": [],
            "_model_module": "@jupyter-widgets/controls",
            "_model_module_version": "1.5.0",
            "_model_name": "HTMLModel",
            "_view_count": null,
            "_view_module": "@jupyter-widgets/controls",
            "_view_module_version": "1.5.0",
            "_view_name": "HTMLView",
            "description": "",
            "description_tooltip": null,
            "layout": "IPY_MODEL_7abf3fdabb4e4dd0babc62bed7969299",
            "placeholder": "​",
            "style": "IPY_MODEL_6953d984607b45a0bde979bbaf6ee18c",
            "value": " 2/2 [01:08&lt;00:00, 31.39s/it]"
          }
        },
        "eb9ca0c6af3e4a349aa3c5cd80b5de5c": {
          "model_module": "@jupyter-widgets/base",
          "model_name": "LayoutModel",
          "model_module_version": "1.2.0",
          "state": {
            "_model_module": "@jupyter-widgets/base",
            "_model_module_version": "1.2.0",
            "_model_name": "LayoutModel",
            "_view_count": null,
            "_view_module": "@jupyter-widgets/base",
            "_view_module_version": "1.2.0",
            "_view_name": "LayoutView",
            "align_content": null,
            "align_items": null,
            "align_self": null,
            "border": null,
            "bottom": null,
            "display": null,
            "flex": null,
            "flex_flow": null,
            "grid_area": null,
            "grid_auto_columns": null,
            "grid_auto_flow": null,
            "grid_auto_rows": null,
            "grid_column": null,
            "grid_gap": null,
            "grid_row": null,
            "grid_template_areas": null,
            "grid_template_columns": null,
            "grid_template_rows": null,
            "height": null,
            "justify_content": null,
            "justify_items": null,
            "left": null,
            "margin": null,
            "max_height": null,
            "max_width": null,
            "min_height": null,
            "min_width": null,
            "object_fit": null,
            "object_position": null,
            "order": null,
            "overflow": null,
            "overflow_x": null,
            "overflow_y": null,
            "padding": null,
            "right": null,
            "top": null,
            "visibility": null,
            "width": null
          }
        },
        "abaf61f67b0f44cfaa2a77ca2e1bd679": {
          "model_module": "@jupyter-widgets/base",
          "model_name": "LayoutModel",
          "model_module_version": "1.2.0",
          "state": {
            "_model_module": "@jupyter-widgets/base",
            "_model_module_version": "1.2.0",
            "_model_name": "LayoutModel",
            "_view_count": null,
            "_view_module": "@jupyter-widgets/base",
            "_view_module_version": "1.2.0",
            "_view_name": "LayoutView",
            "align_content": null,
            "align_items": null,
            "align_self": null,
            "border": null,
            "bottom": null,
            "display": null,
            "flex": null,
            "flex_flow": null,
            "grid_area": null,
            "grid_auto_columns": null,
            "grid_auto_flow": null,
            "grid_auto_rows": null,
            "grid_column": null,
            "grid_gap": null,
            "grid_row": null,
            "grid_template_areas": null,
            "grid_template_columns": null,
            "grid_template_rows": null,
            "height": null,
            "justify_content": null,
            "justify_items": null,
            "left": null,
            "margin": null,
            "max_height": null,
            "max_width": null,
            "min_height": null,
            "min_width": null,
            "object_fit": null,
            "object_position": null,
            "order": null,
            "overflow": null,
            "overflow_x": null,
            "overflow_y": null,
            "padding": null,
            "right": null,
            "top": null,
            "visibility": null,
            "width": null
          }
        },
        "37723b4c514d417bb4a3d17f8d6fe131": {
          "model_module": "@jupyter-widgets/controls",
          "model_name": "DescriptionStyleModel",
          "model_module_version": "1.5.0",
          "state": {
            "_model_module": "@jupyter-widgets/controls",
            "_model_module_version": "1.5.0",
            "_model_name": "DescriptionStyleModel",
            "_view_count": null,
            "_view_module": "@jupyter-widgets/base",
            "_view_module_version": "1.2.0",
            "_view_name": "StyleView",
            "description_width": ""
          }
        },
        "c912b6c759c44ee3a58c0904e053f9fb": {
          "model_module": "@jupyter-widgets/base",
          "model_name": "LayoutModel",
          "model_module_version": "1.2.0",
          "state": {
            "_model_module": "@jupyter-widgets/base",
            "_model_module_version": "1.2.0",
            "_model_name": "LayoutModel",
            "_view_count": null,
            "_view_module": "@jupyter-widgets/base",
            "_view_module_version": "1.2.0",
            "_view_name": "LayoutView",
            "align_content": null,
            "align_items": null,
            "align_self": null,
            "border": null,
            "bottom": null,
            "display": null,
            "flex": null,
            "flex_flow": null,
            "grid_area": null,
            "grid_auto_columns": null,
            "grid_auto_flow": null,
            "grid_auto_rows": null,
            "grid_column": null,
            "grid_gap": null,
            "grid_row": null,
            "grid_template_areas": null,
            "grid_template_columns": null,
            "grid_template_rows": null,
            "height": null,
            "justify_content": null,
            "justify_items": null,
            "left": null,
            "margin": null,
            "max_height": null,
            "max_width": null,
            "min_height": null,
            "min_width": null,
            "object_fit": null,
            "object_position": null,
            "order": null,
            "overflow": null,
            "overflow_x": null,
            "overflow_y": null,
            "padding": null,
            "right": null,
            "top": null,
            "visibility": null,
            "width": null
          }
        },
        "ad5ea26e9c3341a9b4eb1adf7f88f163": {
          "model_module": "@jupyter-widgets/controls",
          "model_name": "ProgressStyleModel",
          "model_module_version": "1.5.0",
          "state": {
            "_model_module": "@jupyter-widgets/controls",
            "_model_module_version": "1.5.0",
            "_model_name": "ProgressStyleModel",
            "_view_count": null,
            "_view_module": "@jupyter-widgets/base",
            "_view_module_version": "1.2.0",
            "_view_name": "StyleView",
            "bar_color": null,
            "description_width": ""
          }
        },
        "7abf3fdabb4e4dd0babc62bed7969299": {
          "model_module": "@jupyter-widgets/base",
          "model_name": "LayoutModel",
          "model_module_version": "1.2.0",
          "state": {
            "_model_module": "@jupyter-widgets/base",
            "_model_module_version": "1.2.0",
            "_model_name": "LayoutModel",
            "_view_count": null,
            "_view_module": "@jupyter-widgets/base",
            "_view_module_version": "1.2.0",
            "_view_name": "LayoutView",
            "align_content": null,
            "align_items": null,
            "align_self": null,
            "border": null,
            "bottom": null,
            "display": null,
            "flex": null,
            "flex_flow": null,
            "grid_area": null,
            "grid_auto_columns": null,
            "grid_auto_flow": null,
            "grid_auto_rows": null,
            "grid_column": null,
            "grid_gap": null,
            "grid_row": null,
            "grid_template_areas": null,
            "grid_template_columns": null,
            "grid_template_rows": null,
            "height": null,
            "justify_content": null,
            "justify_items": null,
            "left": null,
            "margin": null,
            "max_height": null,
            "max_width": null,
            "min_height": null,
            "min_width": null,
            "object_fit": null,
            "object_position": null,
            "order": null,
            "overflow": null,
            "overflow_x": null,
            "overflow_y": null,
            "padding": null,
            "right": null,
            "top": null,
            "visibility": null,
            "width": null
          }
        },
        "6953d984607b45a0bde979bbaf6ee18c": {
          "model_module": "@jupyter-widgets/controls",
          "model_name": "DescriptionStyleModel",
          "model_module_version": "1.5.0",
          "state": {
            "_model_module": "@jupyter-widgets/controls",
            "_model_module_version": "1.5.0",
            "_model_name": "DescriptionStyleModel",
            "_view_count": null,
            "_view_module": "@jupyter-widgets/base",
            "_view_module_version": "1.2.0",
            "_view_name": "StyleView",
            "description_width": ""
          }
        }
      }
    }
  },
  "nbformat": 4,
  "nbformat_minor": 0
}